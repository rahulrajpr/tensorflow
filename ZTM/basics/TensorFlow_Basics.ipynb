{
  "nbformat": 4,
  "nbformat_minor": 0,
  "metadata": {
    "colab": {
      "provenance": [],
      "authorship_tag": "ABX9TyMGf0QTbnd4FV25e2jsyB/x",
      "include_colab_link": true
    },
    "kernelspec": {
      "name": "python3",
      "display_name": "Python 3"
    },
    "language_info": {
      "name": "python"
    },
    "accelerator": "GPU",
    "gpuClass": "standard"
  },
  "cells": [
    {
      "cell_type": "markdown",
      "metadata": {
        "id": "view-in-github",
        "colab_type": "text"
      },
      "source": [
        "<a href=\"https://colab.research.google.com/github/rahulrajpr/TensorFlowDeveloperCertifcateTraining/blob/basics/TensorFlow_Basics.ipynb\" target=\"_parent\"><img src=\"https://colab.research.google.com/assets/colab-badge.svg\" alt=\"Open In Colab\"/></a>"
      ]
    },
    {
      "cell_type": "code",
      "execution_count": 98,
      "metadata": {
        "colab": {
          "base_uri": "https://localhost:8080/"
        },
        "id": "eVBw_4il2Ge7",
        "outputId": "1be313a3-2fa0-43f0-933c-f3fdd61a484c"
      },
      "outputs": [
        {
          "output_type": "stream",
          "name": "stdout",
          "text": [
            "2.9.2\n"
          ]
        }
      ],
      "source": [
        "import tensorflow as tf\n",
        "print(tf.__version__)"
      ]
    },
    {
      "cell_type": "markdown",
      "source": [
        "* scalar - a number with direction\n",
        "* vector is a number with direction\n",
        "* matrics - two dimensional array\n",
        "* tensor - ndimentional arrays"
      ],
      "metadata": {
        "id": "-IkP6APp7vaY"
      }
    },
    {
      "cell_type": "markdown",
      "source": [
        "**Creating Tensors using tf.constant**\n",
        "\n",
        "-- for immutable tensors , values cannot be changed/modefied after creation"
      ],
      "metadata": {
        "id": "_ONQqGZh_Mgq"
      }
    },
    {
      "cell_type": "code",
      "source": [
        "scalar = tf.constant(7)\n",
        "scalar"
      ],
      "metadata": {
        "colab": {
          "base_uri": "https://localhost:8080/"
        },
        "id": "gDSu_XWK2Svb",
        "outputId": "5abd687c-4678-483e-a618-e5fbff62a1ed"
      },
      "execution_count": 99,
      "outputs": [
        {
          "output_type": "execute_result",
          "data": {
            "text/plain": [
              "<tf.Tensor: shape=(), dtype=int32, numpy=7>"
            ]
          },
          "metadata": {},
          "execution_count": 99
        }
      ]
    },
    {
      "cell_type": "code",
      "source": [
        "scalar.ndim"
      ],
      "metadata": {
        "colab": {
          "base_uri": "https://localhost:8080/"
        },
        "id": "2JkqRydv8Juk",
        "outputId": "4c4807cc-f0d2-4d80-f376-6781302fe2a9"
      },
      "execution_count": 100,
      "outputs": [
        {
          "output_type": "execute_result",
          "data": {
            "text/plain": [
              "0"
            ]
          },
          "metadata": {},
          "execution_count": 100
        }
      ]
    },
    {
      "cell_type": "code",
      "source": [
        "vector = tf.constant([10,7])\n",
        "vector"
      ],
      "metadata": {
        "colab": {
          "base_uri": "https://localhost:8080/"
        },
        "id": "iTDJ2rB28M_l",
        "outputId": "77568a7a-8d85-4532-dfb0-3bf24aa55061"
      },
      "execution_count": 101,
      "outputs": [
        {
          "output_type": "execute_result",
          "data": {
            "text/plain": [
              "<tf.Tensor: shape=(2,), dtype=int32, numpy=array([10,  7], dtype=int32)>"
            ]
          },
          "metadata": {},
          "execution_count": 101
        }
      ]
    },
    {
      "cell_type": "code",
      "source": [
        "vector.ndim"
      ],
      "metadata": {
        "colab": {
          "base_uri": "https://localhost:8080/"
        },
        "id": "YohhDBBE8UJe",
        "outputId": "b67e9cf2-7126-437b-ac3f-450683ac76c2"
      },
      "execution_count": 102,
      "outputs": [
        {
          "output_type": "execute_result",
          "data": {
            "text/plain": [
              "1"
            ]
          },
          "metadata": {},
          "execution_count": 102
        }
      ]
    },
    {
      "cell_type": "code",
      "source": [
        "matrix = tf.constant([[10,7],\n",
        "                      [7,10]])\n",
        "matrix"
      ],
      "metadata": {
        "colab": {
          "base_uri": "https://localhost:8080/"
        },
        "id": "w-ZpW6fU8Xd9",
        "outputId": "bf8dd999-2429-4a33-cce9-dfa2bcf68db4"
      },
      "execution_count": 103,
      "outputs": [
        {
          "output_type": "execute_result",
          "data": {
            "text/plain": [
              "<tf.Tensor: shape=(2, 2), dtype=int32, numpy=\n",
              "array([[10,  7],\n",
              "       [ 7, 10]], dtype=int32)>"
            ]
          },
          "metadata": {},
          "execution_count": 103
        }
      ]
    },
    {
      "cell_type": "code",
      "source": [
        "matrix.ndim"
      ],
      "metadata": {
        "colab": {
          "base_uri": "https://localhost:8080/"
        },
        "id": "sHbqi_CF8fO-",
        "outputId": "c2a98da2-c552-4450-a44c-7c1238afab56"
      },
      "execution_count": 104,
      "outputs": [
        {
          "output_type": "execute_result",
          "data": {
            "text/plain": [
              "2"
            ]
          },
          "metadata": {},
          "execution_count": 104
        }
      ]
    },
    {
      "cell_type": "code",
      "source": [
        "matrix = tf.constant([[10,7],\n",
        "                      [7,10]], dtype = tf.float16)\n",
        "matrix"
      ],
      "metadata": {
        "colab": {
          "base_uri": "https://localhost:8080/"
        },
        "id": "StvxuEK08iuf",
        "outputId": "28f45a01-9ffb-4bfd-cfd6-643b6b2d9e36"
      },
      "execution_count": 105,
      "outputs": [
        {
          "output_type": "execute_result",
          "data": {
            "text/plain": [
              "<tf.Tensor: shape=(2, 2), dtype=float16, numpy=\n",
              "array([[10.,  7.],\n",
              "       [ 7., 10.]], dtype=float16)>"
            ]
          },
          "metadata": {},
          "execution_count": 105
        }
      ]
    },
    {
      "cell_type": "code",
      "source": [
        "tensor = tf.constant([[[10,2],\n",
        "                       [3,4],\n",
        "                       [1,0]]])\n",
        "tensor"
      ],
      "metadata": {
        "colab": {
          "base_uri": "https://localhost:8080/"
        },
        "id": "Hn_yTr_P8n6A",
        "outputId": "329cbe76-f1c2-415d-b965-69bf104f8f6e"
      },
      "execution_count": 106,
      "outputs": [
        {
          "output_type": "execute_result",
          "data": {
            "text/plain": [
              "<tf.Tensor: shape=(1, 3, 2), dtype=int32, numpy=\n",
              "array([[[10,  2],\n",
              "        [ 3,  4],\n",
              "        [ 1,  0]]], dtype=int32)>"
            ]
          },
          "metadata": {},
          "execution_count": 106
        }
      ]
    },
    {
      "cell_type": "code",
      "source": [
        "tensor.ndim"
      ],
      "metadata": {
        "colab": {
          "base_uri": "https://localhost:8080/"
        },
        "id": "ezzI4-Ip80e7",
        "outputId": "f40288c9-5795-4148-f4bb-9ee0b475e5fa"
      },
      "execution_count": 107,
      "outputs": [
        {
          "output_type": "execute_result",
          "data": {
            "text/plain": [
              "3"
            ]
          },
          "metadata": {},
          "execution_count": 107
        }
      ]
    },
    {
      "cell_type": "code",
      "source": [
        "# value cannot be changed/assigned for constant tensors\n",
        "\n",
        "# tensor[0,0,0].assign(7)"
      ],
      "metadata": {
        "id": "Tm4gYXtd_iKm"
      },
      "execution_count": 108,
      "outputs": []
    },
    {
      "cell_type": "markdown",
      "source": [
        "**Creating Tensors using tf.variable**\n",
        "\n",
        "-- for mutable tensors , values can be changed/modefied after creation"
      ],
      "metadata": {
        "id": "m8vAgtO-_am3"
      }
    },
    {
      "cell_type": "code",
      "source": [
        "tensor2 = tf.Variable([[[10,2],\n",
        "                       [3,4],\n",
        "                       [1,0]]])"
      ],
      "metadata": {
        "id": "Z2WwUykB82xl"
      },
      "execution_count": 109,
      "outputs": []
    },
    {
      "cell_type": "code",
      "source": [
        "# assignment/modification is possible in variable tensors\n",
        "tensor2[0,0,0].assign(7)"
      ],
      "metadata": {
        "colab": {
          "base_uri": "https://localhost:8080/"
        },
        "id": "i3IiGJPV_61b",
        "outputId": "97873f0a-8be2-4fe1-a065-b91d25041746"
      },
      "execution_count": 110,
      "outputs": [
        {
          "output_type": "execute_result",
          "data": {
            "text/plain": [
              "<tf.Variable 'UnreadVariable' shape=(1, 3, 2) dtype=int32, numpy=\n",
              "array([[[7, 2],\n",
              "        [3, 4],\n",
              "        [1, 0]]], dtype=int32)>"
            ]
          },
          "metadata": {},
          "execution_count": 110
        }
      ]
    },
    {
      "cell_type": "markdown",
      "source": [
        "**Generating the Random Tensors**"
      ],
      "metadata": {
        "id": "qp5e4o6dCLaI"
      }
    },
    {
      "cell_type": "code",
      "source": [
        "# random numbers are picked from the normal distribution\n",
        "\n",
        "random1 = tf.random.Generator.from_seed(100)\n",
        "random1 = random1.normal(shape = (3,2))\n",
        "random1"
      ],
      "metadata": {
        "colab": {
          "base_uri": "https://localhost:8080/"
        },
        "id": "d00xbkvGAAf7",
        "outputId": "e7aa71f1-9803-4061-82c0-7148c1dc3b3c"
      },
      "execution_count": 111,
      "outputs": [
        {
          "output_type": "execute_result",
          "data": {
            "text/plain": [
              "<tf.Tensor: shape=(3, 2), dtype=float32, numpy=\n",
              "array([[-0.90112925, -0.0175216 ],\n",
              "       [-0.41884932,  0.29532313],\n",
              "       [ 0.08036723, -1.7199678 ]], dtype=float32)>"
            ]
          },
          "metadata": {},
          "execution_count": 111
        }
      ]
    },
    {
      "cell_type": "code",
      "source": [
        "# random values are picked from the uniform distribution\n",
        "\n",
        "random2 = tf.random.Generator.from_seed(10)\n",
        "random2 = random2.uniform(shape = (3,2))\n",
        "random2"
      ],
      "metadata": {
        "colab": {
          "base_uri": "https://localhost:8080/"
        },
        "id": "dAfmmrT5Cb_1",
        "outputId": "d2102c32-2dc9-4978-8114-5e196f3feab6"
      },
      "execution_count": 112,
      "outputs": [
        {
          "output_type": "execute_result",
          "data": {
            "text/plain": [
              "<tf.Tensor: shape=(3, 2), dtype=float32, numpy=\n",
              "array([[0.93598676, 0.6513264 ],\n",
              "       [0.31663585, 0.00111556],\n",
              "       [0.9212191 , 0.3822806 ]], dtype=float32)>"
            ]
          },
          "metadata": {},
          "execution_count": 112
        }
      ]
    },
    {
      "cell_type": "markdown",
      "source": [
        "**Shuffle the tensors rows**"
      ],
      "metadata": {
        "id": "DBm6GoYpFI88"
      }
    },
    {
      "cell_type": "code",
      "source": [
        "tn = tf.Variable([[[10,2],\n",
        "                  [3,4],\n",
        "                  [1,0],\n",
        "                   [5,8]]])\n",
        "tn"
      ],
      "metadata": {
        "colab": {
          "base_uri": "https://localhost:8080/"
        },
        "id": "yqUKKTT-FTPk",
        "outputId": "94efda47-a267-4747-8fde-2b227701c1df"
      },
      "execution_count": 113,
      "outputs": [
        {
          "output_type": "execute_result",
          "data": {
            "text/plain": [
              "<tf.Variable 'Variable:0' shape=(1, 4, 2) dtype=int32, numpy=\n",
              "array([[[10,  2],\n",
              "        [ 3,  4],\n",
              "        [ 1,  0],\n",
              "        [ 5,  8]]], dtype=int32)>"
            ]
          },
          "metadata": {},
          "execution_count": 113
        }
      ]
    },
    {
      "cell_type": "code",
      "source": [
        "tf.random.shuffle(value = tn, seed = 10)"
      ],
      "metadata": {
        "colab": {
          "base_uri": "https://localhost:8080/"
        },
        "id": "WNBLd5TpFdMt",
        "outputId": "4c159fae-1725-4486-cb7d-61553826f197"
      },
      "execution_count": 114,
      "outputs": [
        {
          "output_type": "execute_result",
          "data": {
            "text/plain": [
              "<tf.Tensor: shape=(1, 4, 2), dtype=int32, numpy=\n",
              "array([[[10,  2],\n",
              "        [ 3,  4],\n",
              "        [ 1,  0],\n",
              "        [ 5,  8]]], dtype=int32)>"
            ]
          },
          "metadata": {},
          "execution_count": 114
        }
      ]
    },
    {
      "cell_type": "markdown",
      "source": [
        "**Tensors of ones**"
      ],
      "metadata": {
        "id": "gGv46_9UT5Vs"
      }
    },
    {
      "cell_type": "code",
      "source": [
        "tf.ones(shape = (2,3), dtype = tf.int64)"
      ],
      "metadata": {
        "colab": {
          "base_uri": "https://localhost:8080/"
        },
        "id": "tcevZys7T41o",
        "outputId": "20bc3a73-63c1-4fec-f432-134c277e9741"
      },
      "execution_count": 115,
      "outputs": [
        {
          "output_type": "execute_result",
          "data": {
            "text/plain": [
              "<tf.Tensor: shape=(2, 3), dtype=int64, numpy=\n",
              "array([[1, 1, 1],\n",
              "       [1, 1, 1]])>"
            ]
          },
          "metadata": {},
          "execution_count": 115
        }
      ]
    },
    {
      "cell_type": "markdown",
      "source": [
        "**Tensors of zeros**"
      ],
      "metadata": {
        "id": "mG6nczj6UKom"
      }
    },
    {
      "cell_type": "code",
      "source": [
        "tf.zeros(shape = [5,5], dtype = tf.int64)"
      ],
      "metadata": {
        "colab": {
          "base_uri": "https://localhost:8080/"
        },
        "id": "W57rLcUCFjI4",
        "outputId": "de561d86-0928-4eb7-ba4b-3b41ce595061"
      },
      "execution_count": 116,
      "outputs": [
        {
          "output_type": "execute_result",
          "data": {
            "text/plain": [
              "<tf.Tensor: shape=(5, 5), dtype=int64, numpy=\n",
              "array([[0, 0, 0, 0, 0],\n",
              "       [0, 0, 0, 0, 0],\n",
              "       [0, 0, 0, 0, 0],\n",
              "       [0, 0, 0, 0, 0],\n",
              "       [0, 0, 0, 0, 0]])>"
            ]
          },
          "metadata": {},
          "execution_count": 116
        }
      ]
    },
    {
      "cell_type": "markdown",
      "source": [
        "**Converting the numpy array to Tensor**"
      ],
      "metadata": {
        "id": "BOwBD7ipUxx1"
      }
    },
    {
      "cell_type": "markdown",
      "source": [
        "Note : Tensors are computationally quicker in a GPU rather than numpy arrays"
      ],
      "metadata": {
        "id": "EGe1diOxVp5l"
      }
    },
    {
      "cell_type": "code",
      "source": [
        "import numpy as np"
      ],
      "metadata": {
        "id": "wPgsGgvCUsLy"
      },
      "execution_count": 117,
      "outputs": []
    },
    {
      "cell_type": "code",
      "source": [
        "array = np.arange(1,25,1)\n",
        "array"
      ],
      "metadata": {
        "colab": {
          "base_uri": "https://localhost:8080/"
        },
        "id": "hxO1i2hhU8In",
        "outputId": "000d77fd-386e-45de-b499-2aada9ff3ae5"
      },
      "execution_count": 118,
      "outputs": [
        {
          "output_type": "execute_result",
          "data": {
            "text/plain": [
              "array([ 1,  2,  3,  4,  5,  6,  7,  8,  9, 10, 11, 12, 13, 14, 15, 16, 17,\n",
              "       18, 19, 20, 21, 22, 23, 24])"
            ]
          },
          "metadata": {},
          "execution_count": 118
        }
      ]
    },
    {
      "cell_type": "code",
      "source": [
        "# converting a numpy array to tensor\n",
        "tf.constant(value = array)"
      ],
      "metadata": {
        "colab": {
          "base_uri": "https://localhost:8080/"
        },
        "id": "a5x3t7_eVBYn",
        "outputId": "be7e1818-ad3f-47ce-a9c6-194868ae7790"
      },
      "execution_count": 119,
      "outputs": [
        {
          "output_type": "execute_result",
          "data": {
            "text/plain": [
              "<tf.Tensor: shape=(24,), dtype=int64, numpy=\n",
              "array([ 1,  2,  3,  4,  5,  6,  7,  8,  9, 10, 11, 12, 13, 14, 15, 16, 17,\n",
              "       18, 19, 20, 21, 22, 23, 24])>"
            ]
          },
          "metadata": {},
          "execution_count": 119
        }
      ]
    },
    {
      "cell_type": "code",
      "source": [
        "# converting a numpy array to a customised shape\n",
        "tf.constant(value = array,shape = [3,4,2])"
      ],
      "metadata": {
        "colab": {
          "base_uri": "https://localhost:8080/"
        },
        "id": "BqJx06wUVI4b",
        "outputId": "6d30fe64-b3ee-4f89-de6a-f1d93857d5ad"
      },
      "execution_count": 120,
      "outputs": [
        {
          "output_type": "execute_result",
          "data": {
            "text/plain": [
              "<tf.Tensor: shape=(3, 4, 2), dtype=int64, numpy=\n",
              "array([[[ 1,  2],\n",
              "        [ 3,  4],\n",
              "        [ 5,  6],\n",
              "        [ 7,  8]],\n",
              "\n",
              "       [[ 9, 10],\n",
              "        [11, 12],\n",
              "        [13, 14],\n",
              "        [15, 16]],\n",
              "\n",
              "       [[17, 18],\n",
              "        [19, 20],\n",
              "        [21, 22],\n",
              "        [23, 24]]])>"
            ]
          },
          "metadata": {},
          "execution_count": 120
        }
      ]
    },
    {
      "cell_type": "markdown",
      "source": [
        "**Attributes of the tensors**"
      ],
      "metadata": {
        "id": "jt-9XrHlX748"
      }
    },
    {
      "cell_type": "code",
      "source": [
        "ten = tf.zeros(shape = [2,3,4,5])\n",
        "ten"
      ],
      "metadata": {
        "colab": {
          "base_uri": "https://localhost:8080/"
        },
        "id": "NCpPwabbVQHD",
        "outputId": "a9dc3b8f-2b4e-48fb-e5b8-39b215b4485e"
      },
      "execution_count": 121,
      "outputs": [
        {
          "output_type": "execute_result",
          "data": {
            "text/plain": [
              "<tf.Tensor: shape=(2, 3, 4, 5), dtype=float32, numpy=\n",
              "array([[[[0., 0., 0., 0., 0.],\n",
              "         [0., 0., 0., 0., 0.],\n",
              "         [0., 0., 0., 0., 0.],\n",
              "         [0., 0., 0., 0., 0.]],\n",
              "\n",
              "        [[0., 0., 0., 0., 0.],\n",
              "         [0., 0., 0., 0., 0.],\n",
              "         [0., 0., 0., 0., 0.],\n",
              "         [0., 0., 0., 0., 0.]],\n",
              "\n",
              "        [[0., 0., 0., 0., 0.],\n",
              "         [0., 0., 0., 0., 0.],\n",
              "         [0., 0., 0., 0., 0.],\n",
              "         [0., 0., 0., 0., 0.]]],\n",
              "\n",
              "\n",
              "       [[[0., 0., 0., 0., 0.],\n",
              "         [0., 0., 0., 0., 0.],\n",
              "         [0., 0., 0., 0., 0.],\n",
              "         [0., 0., 0., 0., 0.]],\n",
              "\n",
              "        [[0., 0., 0., 0., 0.],\n",
              "         [0., 0., 0., 0., 0.],\n",
              "         [0., 0., 0., 0., 0.],\n",
              "         [0., 0., 0., 0., 0.]],\n",
              "\n",
              "        [[0., 0., 0., 0., 0.],\n",
              "         [0., 0., 0., 0., 0.],\n",
              "         [0., 0., 0., 0., 0.],\n",
              "         [0., 0., 0., 0., 0.]]]], dtype=float32)>"
            ]
          },
          "metadata": {},
          "execution_count": 121
        }
      ]
    },
    {
      "cell_type": "code",
      "source": [
        "print('shape of the tensor : ',ten.shape)\n",
        "print('rank or dimension of the tensor : ', ten.ndim)\n",
        "print('number of elements in the tensor : ', tf.size(tn))\n",
        "print('number of elements in the tensor (coverted): ', tf.size(tn).numpy())\n",
        "print('\\n')\n",
        "print('number of element in the first dimension : ', ten.shape[0])\n",
        "print('number of element in the last dimension : ', ten.shape[-1]) "
      ],
      "metadata": {
        "colab": {
          "base_uri": "https://localhost:8080/"
        },
        "id": "Yhn9lWo7YGQU",
        "outputId": "e5675127-882b-4abb-99c7-dab18157887c"
      },
      "execution_count": 122,
      "outputs": [
        {
          "output_type": "stream",
          "name": "stdout",
          "text": [
            "shape of the tensor :  (2, 3, 4, 5)\n",
            "rank or dimension of the tensor :  4\n",
            "number of elements in the tensor :  tf.Tensor(8, shape=(), dtype=int32)\n",
            "number of elements in the tensor (coverted):  8\n",
            "\n",
            "\n",
            "number of element in the first dimension :  2\n",
            "number of element in the last dimension :  5\n"
          ]
        }
      ]
    },
    {
      "cell_type": "markdown",
      "source": [
        "**Indexing the tensor**"
      ],
      "metadata": {
        "id": "YuP1ciBnZJYE"
      }
    },
    {
      "cell_type": "code",
      "source": [
        "ten[0]"
      ],
      "metadata": {
        "colab": {
          "base_uri": "https://localhost:8080/"
        },
        "id": "L_nWej9ZYh1H",
        "outputId": "9cc9046c-1d6c-41f2-d7e9-b50764d4428b"
      },
      "execution_count": 123,
      "outputs": [
        {
          "output_type": "execute_result",
          "data": {
            "text/plain": [
              "<tf.Tensor: shape=(3, 4, 5), dtype=float32, numpy=\n",
              "array([[[0., 0., 0., 0., 0.],\n",
              "        [0., 0., 0., 0., 0.],\n",
              "        [0., 0., 0., 0., 0.],\n",
              "        [0., 0., 0., 0., 0.]],\n",
              "\n",
              "       [[0., 0., 0., 0., 0.],\n",
              "        [0., 0., 0., 0., 0.],\n",
              "        [0., 0., 0., 0., 0.],\n",
              "        [0., 0., 0., 0., 0.]],\n",
              "\n",
              "       [[0., 0., 0., 0., 0.],\n",
              "        [0., 0., 0., 0., 0.],\n",
              "        [0., 0., 0., 0., 0.],\n",
              "        [0., 0., 0., 0., 0.]]], dtype=float32)>"
            ]
          },
          "metadata": {},
          "execution_count": 123
        }
      ]
    },
    {
      "cell_type": "code",
      "source": [
        "ten[0,1]"
      ],
      "metadata": {
        "colab": {
          "base_uri": "https://localhost:8080/"
        },
        "id": "DSLOagf7ZM-l",
        "outputId": "b0562c52-72ac-411c-908c-c1917753ec2e"
      },
      "execution_count": 124,
      "outputs": [
        {
          "output_type": "execute_result",
          "data": {
            "text/plain": [
              "<tf.Tensor: shape=(4, 5), dtype=float32, numpy=\n",
              "array([[0., 0., 0., 0., 0.],\n",
              "       [0., 0., 0., 0., 0.],\n",
              "       [0., 0., 0., 0., 0.],\n",
              "       [0., 0., 0., 0., 0.]], dtype=float32)>"
            ]
          },
          "metadata": {},
          "execution_count": 124
        }
      ]
    },
    {
      "cell_type": "code",
      "source": [
        "ten[0,1,3]"
      ],
      "metadata": {
        "colab": {
          "base_uri": "https://localhost:8080/"
        },
        "id": "VQJv-5vAZP22",
        "outputId": "e36c2e4c-4a88-48b0-f4c5-05461eb93032"
      },
      "execution_count": 125,
      "outputs": [
        {
          "output_type": "execute_result",
          "data": {
            "text/plain": [
              "<tf.Tensor: shape=(5,), dtype=float32, numpy=array([0., 0., 0., 0., 0.], dtype=float32)>"
            ]
          },
          "metadata": {},
          "execution_count": 125
        }
      ]
    },
    {
      "cell_type": "code",
      "source": [
        "ten[0,1,3,2]"
      ],
      "metadata": {
        "colab": {
          "base_uri": "https://localhost:8080/"
        },
        "id": "_BQcXYnVZTpN",
        "outputId": "5c74a991-9732-4c7b-c617-e675148f0657"
      },
      "execution_count": 126,
      "outputs": [
        {
          "output_type": "execute_result",
          "data": {
            "text/plain": [
              "<tf.Tensor: shape=(), dtype=float32, numpy=0.0>"
            ]
          },
          "metadata": {},
          "execution_count": 126
        }
      ]
    },
    {
      "cell_type": "markdown",
      "source": [
        "**Indexing Tensors**"
      ],
      "metadata": {
        "id": "wAu1rRXJUTbH"
      }
    },
    {
      "cell_type": "code",
      "source": [
        "# getting the firts 2 items in each dimentions\n",
        "ten[:2,:2,:2,:2]"
      ],
      "metadata": {
        "id": "rKP3uuu9Ze4b",
        "colab": {
          "base_uri": "https://localhost:8080/"
        },
        "outputId": "78666782-53bf-4316-f8ed-576314e4932e"
      },
      "execution_count": 127,
      "outputs": [
        {
          "output_type": "execute_result",
          "data": {
            "text/plain": [
              "<tf.Tensor: shape=(2, 2, 2, 2), dtype=float32, numpy=\n",
              "array([[[[0., 0.],\n",
              "         [0., 0.]],\n",
              "\n",
              "        [[0., 0.],\n",
              "         [0., 0.]]],\n",
              "\n",
              "\n",
              "       [[[0., 0.],\n",
              "         [0., 0.]],\n",
              "\n",
              "        [[0., 0.],\n",
              "         [0., 0.]]]], dtype=float32)>"
            ]
          },
          "metadata": {},
          "execution_count": 127
        }
      ]
    },
    {
      "cell_type": "code",
      "source": [
        "# get the first element from each dimensions except the final one\n",
        "ten[:1,:1,:1,:]"
      ],
      "metadata": {
        "id": "JUJdNKq1ZoBc",
        "colab": {
          "base_uri": "https://localhost:8080/"
        },
        "outputId": "8f69059b-0d1c-44d1-bdbb-762d1a091e92"
      },
      "execution_count": 128,
      "outputs": [
        {
          "output_type": "execute_result",
          "data": {
            "text/plain": [
              "<tf.Tensor: shape=(1, 1, 1, 5), dtype=float32, numpy=array([[[[0., 0., 0., 0., 0.]]]], dtype=float32)>"
            ]
          },
          "metadata": {},
          "execution_count": 128
        }
      ]
    },
    {
      "cell_type": "code",
      "source": [
        "# create a rank 2 tensor\n",
        "rank2_ten = tf.zeros(shape = [4,4], dtype = tf.int64)\n",
        "rank2_ten"
      ],
      "metadata": {
        "id": "nJk5QsvoZn_L",
        "colab": {
          "base_uri": "https://localhost:8080/"
        },
        "outputId": "09039604-5290-48f6-b3a5-2ca3c2082a50"
      },
      "execution_count": 129,
      "outputs": [
        {
          "output_type": "execute_result",
          "data": {
            "text/plain": [
              "<tf.Tensor: shape=(4, 4), dtype=int64, numpy=\n",
              "array([[0, 0, 0, 0],\n",
              "       [0, 0, 0, 0],\n",
              "       [0, 0, 0, 0],\n",
              "       [0, 0, 0, 0]])>"
            ]
          },
          "metadata": {},
          "execution_count": 129
        }
      ]
    },
    {
      "cell_type": "code",
      "source": [
        "# get the last item from each row\n",
        "rank2_ten[:,-1]"
      ],
      "metadata": {
        "id": "85EKxkTSZn9G",
        "colab": {
          "base_uri": "https://localhost:8080/"
        },
        "outputId": "0490c5d6-deba-46f1-f763-972151f173a4"
      },
      "execution_count": 130,
      "outputs": [
        {
          "output_type": "execute_result",
          "data": {
            "text/plain": [
              "<tf.Tensor: shape=(4,), dtype=int64, numpy=array([0, 0, 0, 0])>"
            ]
          },
          "metadata": {},
          "execution_count": 130
        }
      ]
    },
    {
      "cell_type": "code",
      "source": [
        "# expand the existing tensor (add new dimension at a particular axis)\n",
        "tf.expand_dims(rank2_ten,axis = -1) # adding a new dimension at the last axis"
      ],
      "metadata": {
        "id": "WYEGrDiXZn7P",
        "colab": {
          "base_uri": "https://localhost:8080/"
        },
        "outputId": "11f49973-d467-41d1-8e3c-0facb819dacf"
      },
      "execution_count": 131,
      "outputs": [
        {
          "output_type": "execute_result",
          "data": {
            "text/plain": [
              "<tf.Tensor: shape=(4, 4, 1), dtype=int64, numpy=\n",
              "array([[[0],\n",
              "        [0],\n",
              "        [0],\n",
              "        [0]],\n",
              "\n",
              "       [[0],\n",
              "        [0],\n",
              "        [0],\n",
              "        [0]],\n",
              "\n",
              "       [[0],\n",
              "        [0],\n",
              "        [0],\n",
              "        [0]],\n",
              "\n",
              "       [[0],\n",
              "        [0],\n",
              "        [0],\n",
              "        [0]]])>"
            ]
          },
          "metadata": {},
          "execution_count": 131
        }
      ]
    },
    {
      "cell_type": "code",
      "source": [
        "tf.expand_dims(rank2_ten,axis = 0) # adding a new dimension at the 0-axis"
      ],
      "metadata": {
        "id": "bVfb8AaOZn5U",
        "colab": {
          "base_uri": "https://localhost:8080/"
        },
        "outputId": "1e6a6799-e4c0-4a07-fbda-add4ee70aa61"
      },
      "execution_count": 132,
      "outputs": [
        {
          "output_type": "execute_result",
          "data": {
            "text/plain": [
              "<tf.Tensor: shape=(1, 4, 4), dtype=int64, numpy=\n",
              "array([[[0, 0, 0, 0],\n",
              "        [0, 0, 0, 0],\n",
              "        [0, 0, 0, 0],\n",
              "        [0, 0, 0, 0]]])>"
            ]
          },
          "metadata": {},
          "execution_count": 132
        }
      ]
    },
    {
      "cell_type": "code",
      "source": [
        "tf.expand_dims(rank2_ten,axis = 1) # adding a new dimension at the 1-axis"
      ],
      "metadata": {
        "id": "xAFXRm6hZn28",
        "colab": {
          "base_uri": "https://localhost:8080/"
        },
        "outputId": "ee3ecc73-9799-4ac8-fcd1-b756c2086cd9"
      },
      "execution_count": 133,
      "outputs": [
        {
          "output_type": "execute_result",
          "data": {
            "text/plain": [
              "<tf.Tensor: shape=(4, 1, 4), dtype=int64, numpy=\n",
              "array([[[0, 0, 0, 0]],\n",
              "\n",
              "       [[0, 0, 0, 0]],\n",
              "\n",
              "       [[0, 0, 0, 0]],\n",
              "\n",
              "       [[0, 0, 0, 0]]])>"
            ]
          },
          "metadata": {},
          "execution_count": 133
        }
      ]
    },
    {
      "cell_type": "code",
      "source": [
        "# Another way of adding dimensions at the end of the tensor\n",
        "\n",
        "rank2_ten[..., tf.newaxis] # '...' represents all the dimensions prior to the new axis addition."
      ],
      "metadata": {
        "id": "9qClG5PCZn0m",
        "colab": {
          "base_uri": "https://localhost:8080/"
        },
        "outputId": "a0df7546-7b29-40a4-e788-a6be5e24899e"
      },
      "execution_count": 134,
      "outputs": [
        {
          "output_type": "execute_result",
          "data": {
            "text/plain": [
              "<tf.Tensor: shape=(4, 4, 1), dtype=int64, numpy=\n",
              "array([[[0],\n",
              "        [0],\n",
              "        [0],\n",
              "        [0]],\n",
              "\n",
              "       [[0],\n",
              "        [0],\n",
              "        [0],\n",
              "        [0]],\n",
              "\n",
              "       [[0],\n",
              "        [0],\n",
              "        [0],\n",
              "        [0]],\n",
              "\n",
              "       [[0],\n",
              "        [0],\n",
              "        [0],\n",
              "        [0]]])>"
            ]
          },
          "metadata": {},
          "execution_count": 134
        }
      ]
    },
    {
      "cell_type": "markdown",
      "source": [
        "**Basic Operations in Tensors**\n",
        "\n",
        "* The Tensrflow way\n",
        "* The python way\n",
        "\n",
        "- Addition / Substraction/ Multiplication / Division\n",
        "\n",
        "Note : **The tensorflow way is faster in terms of the computation efficiecy**"
      ],
      "metadata": {
        "id": "bJZVb3vIYhzr"
      }
    },
    {
      "cell_type": "code",
      "source": [
        "tensor = tf.constant([[2,3],\n",
        "                      [4,5]])\n",
        "\n",
        "tensor"
      ],
      "metadata": {
        "colab": {
          "base_uri": "https://localhost:8080/"
        },
        "id": "xG7D7LbpXTfn",
        "outputId": "b51210b5-b051-4b39-9dd2-9e8bbb71fe95"
      },
      "execution_count": 135,
      "outputs": [
        {
          "output_type": "execute_result",
          "data": {
            "text/plain": [
              "<tf.Tensor: shape=(2, 2), dtype=int32, numpy=\n",
              "array([[2, 3],\n",
              "       [4, 5]], dtype=int32)>"
            ]
          },
          "metadata": {},
          "execution_count": 135
        }
      ]
    },
    {
      "cell_type": "code",
      "source": [
        "tf.add(tensor,10)"
      ],
      "metadata": {
        "colab": {
          "base_uri": "https://localhost:8080/"
        },
        "id": "oT8eiBn-YiVd",
        "outputId": "69052184-e38c-4ec0-9175-94aadab7e5be"
      },
      "execution_count": 136,
      "outputs": [
        {
          "output_type": "execute_result",
          "data": {
            "text/plain": [
              "<tf.Tensor: shape=(2, 2), dtype=int32, numpy=\n",
              "array([[12, 13],\n",
              "       [14, 15]], dtype=int32)>"
            ]
          },
          "metadata": {},
          "execution_count": 136
        }
      ]
    },
    {
      "cell_type": "code",
      "source": [
        "tensor + 10"
      ],
      "metadata": {
        "colab": {
          "base_uri": "https://localhost:8080/"
        },
        "id": "7tiIj854YjC3",
        "outputId": "60e8f96b-a2cd-4830-a3cc-06939885efbb"
      },
      "execution_count": 137,
      "outputs": [
        {
          "output_type": "execute_result",
          "data": {
            "text/plain": [
              "<tf.Tensor: shape=(2, 2), dtype=int32, numpy=\n",
              "array([[12, 13],\n",
              "       [14, 15]], dtype=int32)>"
            ]
          },
          "metadata": {},
          "execution_count": 137
        }
      ]
    },
    {
      "cell_type": "code",
      "source": [
        "tf.multiply(tensor,10)"
      ],
      "metadata": {
        "colab": {
          "base_uri": "https://localhost:8080/"
        },
        "id": "UAuhDyAUYjAX",
        "outputId": "1c889c04-535e-4533-b612-45689b9ff979"
      },
      "execution_count": 138,
      "outputs": [
        {
          "output_type": "execute_result",
          "data": {
            "text/plain": [
              "<tf.Tensor: shape=(2, 2), dtype=int32, numpy=\n",
              "array([[20, 30],\n",
              "       [40, 50]], dtype=int32)>"
            ]
          },
          "metadata": {},
          "execution_count": 138
        }
      ]
    },
    {
      "cell_type": "code",
      "source": [
        "tensor * 10"
      ],
      "metadata": {
        "colab": {
          "base_uri": "https://localhost:8080/"
        },
        "id": "bo8F6n6KYi96",
        "outputId": "fdca8350-0fb3-48d6-acba-4408bfa2c274"
      },
      "execution_count": 139,
      "outputs": [
        {
          "output_type": "execute_result",
          "data": {
            "text/plain": [
              "<tf.Tensor: shape=(2, 2), dtype=int32, numpy=\n",
              "array([[20, 30],\n",
              "       [40, 50]], dtype=int32)>"
            ]
          },
          "metadata": {},
          "execution_count": 139
        }
      ]
    },
    {
      "cell_type": "code",
      "source": [
        "tf.subtract(tensor,10)"
      ],
      "metadata": {
        "colab": {
          "base_uri": "https://localhost:8080/"
        },
        "id": "SB4wGuI1Yi7k",
        "outputId": "c2bd293f-8cf9-4c0c-e96e-281dac4447c3"
      },
      "execution_count": 140,
      "outputs": [
        {
          "output_type": "execute_result",
          "data": {
            "text/plain": [
              "<tf.Tensor: shape=(2, 2), dtype=int32, numpy=\n",
              "array([[-8, -7],\n",
              "       [-6, -5]], dtype=int32)>"
            ]
          },
          "metadata": {},
          "execution_count": 140
        }
      ]
    },
    {
      "cell_type": "code",
      "source": [
        "tensor -10"
      ],
      "metadata": {
        "colab": {
          "base_uri": "https://localhost:8080/"
        },
        "id": "r-NQvrkQYi4k",
        "outputId": "afcdd581-b5e1-4674-aac5-ee6f9886f226"
      },
      "execution_count": 141,
      "outputs": [
        {
          "output_type": "execute_result",
          "data": {
            "text/plain": [
              "<tf.Tensor: shape=(2, 2), dtype=int32, numpy=\n",
              "array([[-8, -7],\n",
              "       [-6, -5]], dtype=int32)>"
            ]
          },
          "metadata": {},
          "execution_count": 141
        }
      ]
    },
    {
      "cell_type": "code",
      "source": [
        "tf.divide(tensor,10)"
      ],
      "metadata": {
        "colab": {
          "base_uri": "https://localhost:8080/"
        },
        "id": "A8vBwHBbYiyF",
        "outputId": "380c658e-7919-4ff0-acaa-07b1035e1ed3"
      },
      "execution_count": 142,
      "outputs": [
        {
          "output_type": "execute_result",
          "data": {
            "text/plain": [
              "<tf.Tensor: shape=(2, 2), dtype=float64, numpy=\n",
              "array([[0.2, 0.3],\n",
              "       [0.4, 0.5]])>"
            ]
          },
          "metadata": {},
          "execution_count": 142
        }
      ]
    },
    {
      "cell_type": "code",
      "source": [
        "tensor/ 10"
      ],
      "metadata": {
        "colab": {
          "base_uri": "https://localhost:8080/"
        },
        "id": "oRPP2ZrkYivJ",
        "outputId": "eaeeaaa3-3a71-494a-974a-da2c4519a430"
      },
      "execution_count": 143,
      "outputs": [
        {
          "output_type": "execute_result",
          "data": {
            "text/plain": [
              "<tf.Tensor: shape=(2, 2), dtype=float64, numpy=\n",
              "array([[0.2, 0.3],\n",
              "       [0.4, 0.5]])>"
            ]
          },
          "metadata": {},
          "execution_count": 143
        }
      ]
    },
    {
      "cell_type": "code",
      "source": [
        "tf.math.floordiv(tensor,10)"
      ],
      "metadata": {
        "colab": {
          "base_uri": "https://localhost:8080/"
        },
        "id": "V9NRjfoKZs_o",
        "outputId": "8d7608a9-7d45-4342-c682-d6d84173b375"
      },
      "execution_count": 144,
      "outputs": [
        {
          "output_type": "execute_result",
          "data": {
            "text/plain": [
              "<tf.Tensor: shape=(2, 2), dtype=int32, numpy=\n",
              "array([[0, 0],\n",
              "       [0, 0]], dtype=int32)>"
            ]
          },
          "metadata": {},
          "execution_count": 144
        }
      ]
    },
    {
      "cell_type": "code",
      "source": [
        "tensor//10"
      ],
      "metadata": {
        "colab": {
          "base_uri": "https://localhost:8080/"
        },
        "id": "Oj0nJCbUZjVA",
        "outputId": "b544287f-1349-49f8-f281-b0f01b5f9fe5"
      },
      "execution_count": 145,
      "outputs": [
        {
          "output_type": "execute_result",
          "data": {
            "text/plain": [
              "<tf.Tensor: shape=(2, 2), dtype=int32, numpy=\n",
              "array([[0, 0],\n",
              "       [0, 0]], dtype=int32)>"
            ]
          },
          "metadata": {},
          "execution_count": 145
        }
      ]
    },
    {
      "cell_type": "markdown",
      "source": [
        "**Transposing the tensors**\n",
        "\n",
        "tf.transpose() - flip the axis of an existing tensor"
      ],
      "metadata": {
        "id": "ZxxWNsgch2Sa"
      }
    },
    {
      "cell_type": "code",
      "source": [
        "a = tf.constant([[2,3],\n",
        "                 [4,5],\n",
        "                 [6,7]])\n",
        "\n",
        "a"
      ],
      "metadata": {
        "colab": {
          "base_uri": "https://localhost:8080/"
        },
        "id": "boiwCN5OZmf1",
        "outputId": "2b5be1cf-cdb1-4c59-dd79-bf6b950c081d"
      },
      "execution_count": 146,
      "outputs": [
        {
          "output_type": "execute_result",
          "data": {
            "text/plain": [
              "<tf.Tensor: shape=(3, 2), dtype=int32, numpy=\n",
              "array([[2, 3],\n",
              "       [4, 5],\n",
              "       [6, 7]], dtype=int32)>"
            ]
          },
          "metadata": {},
          "execution_count": 146
        }
      ]
    },
    {
      "cell_type": "code",
      "source": [
        "tf.transpose(a)"
      ],
      "metadata": {
        "colab": {
          "base_uri": "https://localhost:8080/"
        },
        "id": "1Ob2nJ03iEBH",
        "outputId": "124d6a76-82fa-4541-c019-cc8c294e1e3e"
      },
      "execution_count": 147,
      "outputs": [
        {
          "output_type": "execute_result",
          "data": {
            "text/plain": [
              "<tf.Tensor: shape=(2, 3), dtype=int32, numpy=\n",
              "array([[2, 4, 6],\n",
              "       [3, 5, 7]], dtype=int32)>"
            ]
          },
          "metadata": {},
          "execution_count": 147
        }
      ]
    },
    {
      "cell_type": "markdown",
      "source": [
        "**Reshaping of tensors**\n",
        "\n",
        "tf.reshape() shuffules the element of the existing tensors to the new shape specified"
      ],
      "metadata": {
        "id": "lV8Vs3yKiQAx"
      }
    },
    {
      "cell_type": "code",
      "source": [
        "a.shape"
      ],
      "metadata": {
        "colab": {
          "base_uri": "https://localhost:8080/"
        },
        "id": "e9LoJp_aiJPM",
        "outputId": "5439bc2c-5b68-4d68-ddd5-acd623bf25fc"
      },
      "execution_count": 148,
      "outputs": [
        {
          "output_type": "execute_result",
          "data": {
            "text/plain": [
              "TensorShape([3, 2])"
            ]
          },
          "metadata": {},
          "execution_count": 148
        }
      ]
    },
    {
      "cell_type": "code",
      "source": [
        "tf.reshape(a, shape = [2,3])"
      ],
      "metadata": {
        "colab": {
          "base_uri": "https://localhost:8080/"
        },
        "id": "305XOblxiWhR",
        "outputId": "bef37a24-999f-4fc7-cd77-29cd7157425a"
      },
      "execution_count": 149,
      "outputs": [
        {
          "output_type": "execute_result",
          "data": {
            "text/plain": [
              "<tf.Tensor: shape=(2, 3), dtype=int32, numpy=\n",
              "array([[2, 3, 4],\n",
              "       [5, 6, 7]], dtype=int32)>"
            ]
          },
          "metadata": {},
          "execution_count": 149
        }
      ]
    },
    {
      "cell_type": "markdown",
      "source": [
        "**Element wise multiplication**\n",
        "\n",
        "tensors with same shape can be multiplied element wise"
      ],
      "metadata": {
        "id": "MMyBUvFUiteX"
      }
    },
    {
      "cell_type": "code",
      "source": [
        "print(a)\n",
        "print(a)\n",
        "print(a * a)"
      ],
      "metadata": {
        "colab": {
          "base_uri": "https://localhost:8080/"
        },
        "id": "v1-rcmIdiaIq",
        "outputId": "9f66bab2-2789-4f14-d53c-fab927932e03"
      },
      "execution_count": 150,
      "outputs": [
        {
          "output_type": "stream",
          "name": "stdout",
          "text": [
            "tf.Tensor(\n",
            "[[2 3]\n",
            " [4 5]\n",
            " [6 7]], shape=(3, 2), dtype=int32)\n",
            "tf.Tensor(\n",
            "[[2 3]\n",
            " [4 5]\n",
            " [6 7]], shape=(3, 2), dtype=int32)\n",
            "tf.Tensor(\n",
            "[[ 4  9]\n",
            " [16 25]\n",
            " [36 49]], shape=(3, 2), dtype=int32)\n"
          ]
        }
      ]
    },
    {
      "cell_type": "markdown",
      "source": [
        "**Matrix Multiplication (Dot Product)**\n",
        "\n",
        "- Rules\n",
        "\n",
        "1. The inner shape of the tensors should match\n",
        "2. The resulting tensor should be in the shape of the out shape of the tensors\n",
        "\n",
        "For example if we have two tensors t1 & t2 having shape (a,b) and (c,d) respectively then\n",
        "\n",
        "for doc-product multiplication\n",
        "\n",
        "1. b should be equal to c -- > ( b == c)\n",
        "2. the resulting tensor will have the shape of (a.d)\n",
        "\n",
        "Ways in which matrix multiplication is possible for tensor are following.\n",
        "\n",
        "1. \"@\" - the python way\n",
        "2. tf.matmul()\n",
        "3. tf.tensordot()\n"
      ],
      "metadata": {
        "id": "qLnkB-hejIUq"
      }
    },
    {
      "cell_type": "code",
      "source": [
        "# lets create two tensors having the shape according to the rule of the tensormultiplication\n",
        "\n",
        "a = tf.constant([[2,2,5],\n",
        "                 [1,8,6]])\n",
        "\n",
        "b = tf.constant([[10,20],\n",
        "                 [5,5],\n",
        "                 [9,8]])\n",
        "\n",
        "a.shape, b.shape  "
      ],
      "metadata": {
        "colab": {
          "base_uri": "https://localhost:8080/"
        },
        "id": "O7l01bJDivL2",
        "outputId": "cf5eabee-5e76-4191-bb35-aa064a4b2190"
      },
      "execution_count": 151,
      "outputs": [
        {
          "output_type": "execute_result",
          "data": {
            "text/plain": [
              "(TensorShape([2, 3]), TensorShape([3, 2]))"
            ]
          },
          "metadata": {},
          "execution_count": 151
        }
      ]
    },
    {
      "cell_type": "code",
      "source": [
        "# matrix multiply the python way\n",
        "\n",
        "a @ b"
      ],
      "metadata": {
        "colab": {
          "base_uri": "https://localhost:8080/"
        },
        "id": "tacv1wUEivI5",
        "outputId": "6e8304e3-2820-49c1-aeba-30902b6b6cd5"
      },
      "execution_count": 152,
      "outputs": [
        {
          "output_type": "execute_result",
          "data": {
            "text/plain": [
              "<tf.Tensor: shape=(2, 2), dtype=int32, numpy=\n",
              "array([[ 75,  90],\n",
              "       [104, 108]], dtype=int32)>"
            ]
          },
          "metadata": {},
          "execution_count": 152
        }
      ]
    },
    {
      "cell_type": "code",
      "source": [
        "b @ a"
      ],
      "metadata": {
        "colab": {
          "base_uri": "https://localhost:8080/"
        },
        "id": "BRPmR1YXlkZu",
        "outputId": "866fb397-1646-4438-b19c-73a9a92d678c"
      },
      "execution_count": 153,
      "outputs": [
        {
          "output_type": "execute_result",
          "data": {
            "text/plain": [
              "<tf.Tensor: shape=(3, 3), dtype=int32, numpy=\n",
              "array([[ 40, 180, 170],\n",
              "       [ 15,  50,  55],\n",
              "       [ 26,  82,  93]], dtype=int32)>"
            ]
          },
          "metadata": {},
          "execution_count": 153
        }
      ]
    },
    {
      "cell_type": "code",
      "source": [
        "# matrix - multiply the tensorflow way\n",
        "\n",
        "tf.matmul(a,b)"
      ],
      "metadata": {
        "colab": {
          "base_uri": "https://localhost:8080/"
        },
        "id": "tbeYvjPvivGb",
        "outputId": "850fe002-74bf-43e8-8efd-30b5c2102c0b"
      },
      "execution_count": 154,
      "outputs": [
        {
          "output_type": "execute_result",
          "data": {
            "text/plain": [
              "<tf.Tensor: shape=(2, 2), dtype=int32, numpy=\n",
              "array([[ 75,  90],\n",
              "       [104, 108]], dtype=int32)>"
            ]
          },
          "metadata": {},
          "execution_count": 154
        }
      ]
    },
    {
      "cell_type": "code",
      "source": [
        "tf.matmul(b,a)"
      ],
      "metadata": {
        "colab": {
          "base_uri": "https://localhost:8080/"
        },
        "id": "CKQQgeKklntV",
        "outputId": "a056c2b5-1471-41bf-e45d-66b724e85f77"
      },
      "execution_count": 155,
      "outputs": [
        {
          "output_type": "execute_result",
          "data": {
            "text/plain": [
              "<tf.Tensor: shape=(3, 3), dtype=int32, numpy=\n",
              "array([[ 40, 180, 170],\n",
              "       [ 15,  50,  55],\n",
              "       [ 26,  82,  93]], dtype=int32)>"
            ]
          },
          "metadata": {},
          "execution_count": 155
        }
      ]
    },
    {
      "cell_type": "code",
      "source": [
        "tf.tensordot(a,b, axes =1)"
      ],
      "metadata": {
        "colab": {
          "base_uri": "https://localhost:8080/"
        },
        "id": "0C7t8gXyivEN",
        "outputId": "99096daf-d3d2-4a97-9cdd-aa6b455f3441"
      },
      "execution_count": 156,
      "outputs": [
        {
          "output_type": "execute_result",
          "data": {
            "text/plain": [
              "<tf.Tensor: shape=(2, 2), dtype=int32, numpy=\n",
              "array([[ 75,  90],\n",
              "       [104, 108]], dtype=int32)>"
            ]
          },
          "metadata": {},
          "execution_count": 156
        }
      ]
    },
    {
      "cell_type": "code",
      "source": [
        "tf.tensordot(b,a, axes = 1)"
      ],
      "metadata": {
        "colab": {
          "base_uri": "https://localhost:8080/"
        },
        "id": "lGaaP7UglsdR",
        "outputId": "923677dd-1522-4f7d-da01-48a7c8ec4ca9"
      },
      "execution_count": 157,
      "outputs": [
        {
          "output_type": "execute_result",
          "data": {
            "text/plain": [
              "<tf.Tensor: shape=(3, 3), dtype=int32, numpy=\n",
              "array([[ 40, 180, 170],\n",
              "       [ 15,  50,  55],\n",
              "       [ 26,  82,  93]], dtype=int32)>"
            ]
          },
          "metadata": {},
          "execution_count": 157
        }
      ]
    },
    {
      "cell_type": "markdown",
      "source": [
        "**Reshaping & Transposing the tensors for multiplication**"
      ],
      "metadata": {
        "id": "RmAvEzCLl46T"
      }
    },
    {
      "cell_type": "code",
      "source": [
        "# lets create two tensors having the shape not according to the rule of the tensormultiplication\n",
        "\n",
        "a = tf.constant([[2,2,5],\n",
        "                 [1,8,6]])\n",
        "\n",
        "b = tf.constant([[10,20,30],\n",
        "                 [5,5,8]])\n",
        "\n",
        "a.shape, b.shape  "
      ],
      "metadata": {
        "colab": {
          "base_uri": "https://localhost:8080/"
        },
        "id": "r_wg1agPivAH",
        "outputId": "79e8d6f4-682b-4548-9f6c-b4f6dc119e33"
      },
      "execution_count": 158,
      "outputs": [
        {
          "output_type": "execute_result",
          "data": {
            "text/plain": [
              "(TensorShape([2, 3]), TensorShape([2, 3]))"
            ]
          },
          "metadata": {},
          "execution_count": 158
        }
      ]
    },
    {
      "cell_type": "markdown",
      "source": [
        "Transposing for matrix multiplication"
      ],
      "metadata": {
        "id": "z5iwHc_smN23"
      }
    },
    {
      "cell_type": "code",
      "source": [
        "print(a,'\\n')\n",
        "print(b,'\\n')\n",
        "print(tf.transpose(b),'\\n')\n",
        "print(a.shape, b.shape,tf.transpose(b).shape,'\\n')\n",
        "\n",
        "# multipliyting the transposed tensor which satisfy the rule of the matrix mutiplictaion\n",
        "\n",
        "a @ tf.transpose(b)"
      ],
      "metadata": {
        "colab": {
          "base_uri": "https://localhost:8080/"
        },
        "id": "4UK1wJoNiu92",
        "outputId": "15204e26-96d0-4582-8f78-0129a8acd4c2"
      },
      "execution_count": 159,
      "outputs": [
        {
          "output_type": "stream",
          "name": "stdout",
          "text": [
            "tf.Tensor(\n",
            "[[2 2 5]\n",
            " [1 8 6]], shape=(2, 3), dtype=int32) \n",
            "\n",
            "tf.Tensor(\n",
            "[[10 20 30]\n",
            " [ 5  5  8]], shape=(2, 3), dtype=int32) \n",
            "\n",
            "tf.Tensor(\n",
            "[[10  5]\n",
            " [20  5]\n",
            " [30  8]], shape=(3, 2), dtype=int32) \n",
            "\n",
            "(2, 3) (2, 3) (3, 2) \n",
            "\n"
          ]
        },
        {
          "output_type": "execute_result",
          "data": {
            "text/plain": [
              "<tf.Tensor: shape=(2, 2), dtype=int32, numpy=\n",
              "array([[210,  60],\n",
              "       [350,  93]], dtype=int32)>"
            ]
          },
          "metadata": {},
          "execution_count": 159
        }
      ]
    },
    {
      "cell_type": "markdown",
      "source": [
        "Reshaping for the matrix multiplication"
      ],
      "metadata": {
        "id": "142xTqeSnKui"
      }
    },
    {
      "cell_type": "code",
      "source": [
        "print(a,'\\n')\n",
        "print(b,'\\n')\n",
        "print(tf.reshape(b, shape = (3,2)),'\\n')\n",
        "print(a.shape, b.shape,tf.reshape(b, shape = (3,2)).shape,'\\n')\n",
        "\n",
        "# multipliyting the reshaped tensor which satisfy the rule of the matrix mutiplictaion\n",
        "\n",
        "a @ tf.reshape(b, shape = (3,2))"
      ],
      "metadata": {
        "colab": {
          "base_uri": "https://localhost:8080/"
        },
        "id": "pa0mkTpwiu7O",
        "outputId": "cfd5d1c8-98b8-4937-af83-6063a4b19f01"
      },
      "execution_count": 160,
      "outputs": [
        {
          "output_type": "stream",
          "name": "stdout",
          "text": [
            "tf.Tensor(\n",
            "[[2 2 5]\n",
            " [1 8 6]], shape=(2, 3), dtype=int32) \n",
            "\n",
            "tf.Tensor(\n",
            "[[10 20 30]\n",
            " [ 5  5  8]], shape=(2, 3), dtype=int32) \n",
            "\n",
            "tf.Tensor(\n",
            "[[10 20]\n",
            " [30  5]\n",
            " [ 5  8]], shape=(3, 2), dtype=int32) \n",
            "\n",
            "(2, 3) (2, 3) (3, 2) \n",
            "\n"
          ]
        },
        {
          "output_type": "execute_result",
          "data": {
            "text/plain": [
              "<tf.Tensor: shape=(2, 2), dtype=int32, numpy=\n",
              "array([[105,  90],\n",
              "       [280, 108]], dtype=int32)>"
            ]
          },
          "metadata": {},
          "execution_count": 160
        }
      ]
    },
    {
      "cell_type": "markdown",
      "source": [
        "Note 1 : Tranposing and reshaping are different operations resulting in differnet results\n",
        "\n",
        "- Transposing shifts the axis of the tensor(matrix)\n",
        "- Reshaping shuffle the element to teh new shape in the order of the tensor(metrix)\n",
        "\n",
        "Note : Generally, while performing the matxis multiplication, the tranpose is used to satisfy the rules of the matrix multiplications for tensorflow operations"
      ],
      "metadata": {
        "id": "9hrJsCeHnjWP"
      }
    },
    {
      "cell_type": "markdown",
      "source": [
        "**Changing the Datatype in Tensorflow**\n",
        "\n",
        "The default memory for datatype in tensor flow is 32 bit\n",
        "\n",
        "There are 16 bit version of the same data can be used as reduced precision for faster calculations and convergence of the models\n",
        "\n",
        "tf.cast() - hels us to change the datatype in tensor flow\n"
      ],
      "metadata": {
        "id": "slv5zirgro7U"
      }
    },
    {
      "cell_type": "code",
      "source": [
        "a = tf.constant([2,3,4])\n",
        "a.dtype"
      ],
      "metadata": {
        "colab": {
          "base_uri": "https://localhost:8080/"
        },
        "id": "3uuaUOURrov9",
        "outputId": "83fe1229-c724-4a18-82af-0c234e692913"
      },
      "execution_count": 161,
      "outputs": [
        {
          "output_type": "execute_result",
          "data": {
            "text/plain": [
              "tf.int32"
            ]
          },
          "metadata": {},
          "execution_count": 161
        }
      ]
    },
    {
      "cell_type": "code",
      "source": [
        "a = tf.constant([2,3,4])\n",
        "b = tf.cast(a, dtype = tf.int16)\n",
        "a.dtype,b.dtype"
      ],
      "metadata": {
        "colab": {
          "base_uri": "https://localhost:8080/"
        },
        "id": "gGL1sVForot_",
        "outputId": "6339a793-a61a-48fd-a276-233c176f3b12"
      },
      "execution_count": 162,
      "outputs": [
        {
          "output_type": "execute_result",
          "data": {
            "text/plain": [
              "(tf.int32, tf.int16)"
            ]
          },
          "metadata": {},
          "execution_count": 162
        }
      ]
    },
    {
      "cell_type": "code",
      "source": [
        "a = tf.constant([2,3,4])\n",
        "b = tf.cast(a, dtype = tf.float32)\n",
        "a.dtype,b.dtype"
      ],
      "metadata": {
        "colab": {
          "base_uri": "https://localhost:8080/"
        },
        "id": "MJHLZF4Yronw",
        "outputId": "c1dd18bd-f358-4cdf-807b-8a38e6919b45"
      },
      "execution_count": 163,
      "outputs": [
        {
          "output_type": "execute_result",
          "data": {
            "text/plain": [
              "(tf.int32, tf.float32)"
            ]
          },
          "metadata": {},
          "execution_count": 163
        }
      ]
    },
    {
      "cell_type": "code",
      "source": [
        "a = tf.constant([2.5,3.5,4])\n",
        "b = tf.cast(a, dtype = tf.float16)\n",
        "a.dtype,b.dtype"
      ],
      "metadata": {
        "colab": {
          "base_uri": "https://localhost:8080/"
        },
        "id": "HamjHsnyrolb",
        "outputId": "b1638387-e438-41eb-e7a1-67ccdd87bf8f"
      },
      "execution_count": 164,
      "outputs": [
        {
          "output_type": "execute_result",
          "data": {
            "text/plain": [
              "(tf.float32, tf.float16)"
            ]
          },
          "metadata": {},
          "execution_count": 164
        }
      ]
    },
    {
      "cell_type": "code",
      "source": [
        "a = tf.constant([2.5,3.5,4])\n",
        "b = tf.cast(a, dtype = tf.int16)\n",
        "print(a.dtype,b.dtype)\n",
        "\n",
        "b"
      ],
      "metadata": {
        "colab": {
          "base_uri": "https://localhost:8080/"
        },
        "id": "0hWYSLO5rojG",
        "outputId": "7a052c61-b35e-4eae-9018-ce713cb04a80"
      },
      "execution_count": 165,
      "outputs": [
        {
          "output_type": "stream",
          "name": "stdout",
          "text": [
            "<dtype: 'float32'> <dtype: 'int16'>\n"
          ]
        },
        {
          "output_type": "execute_result",
          "data": {
            "text/plain": [
              "<tf.Tensor: shape=(3,), dtype=int16, numpy=array([2, 3, 4], dtype=int16)>"
            ]
          },
          "metadata": {},
          "execution_count": 165
        }
      ]
    },
    {
      "cell_type": "markdown",
      "source": [
        "**Aggregation in tensor flow**\n",
        "\n",
        "- absolute value - tf.abs()\n",
        "- find the minimum - tf.reduce_min()\n",
        "- find the maximum - tf.reduce_max()\n",
        "- find the sum - tf.reduce_sum()\n",
        "- find the mean - tf.reduce_mean()\n",
        "- find the variance - tf.math.reduce_variance() - \"Input needs to be in float or complex datatype\" - note the usage of the math class\n",
        "- find the standards devaiation - tf.math.reduce_std() - \"Input needs to be in float or complex datatype\" - note the usage of the math class"
      ],
      "metadata": {
        "id": "2nuAleOFwsuc"
      }
    },
    {
      "cell_type": "code",
      "source": [
        "# lets create a random tensor\n",
        "a = tf.constant(np.random.randint(10, 100, size = 60))\n",
        "a"
      ],
      "metadata": {
        "colab": {
          "base_uri": "https://localhost:8080/"
        },
        "id": "qpkOx0k6iu4r",
        "outputId": "ddde7a1d-f0af-41d0-acb8-6115dc1c85bf"
      },
      "execution_count": 166,
      "outputs": [
        {
          "output_type": "execute_result",
          "data": {
            "text/plain": [
              "<tf.Tensor: shape=(60,), dtype=int64, numpy=\n",
              "array([44, 59, 68, 82, 75, 97, 44, 81, 47, 39, 95, 63, 43, 81, 72, 58, 47,\n",
              "       91, 88, 91, 96, 65, 52, 18, 98, 43, 58, 33, 28, 90, 80, 44, 22, 81,\n",
              "       38, 28, 79, 60, 18, 26, 25, 60, 88, 40, 77, 60, 71, 14, 97, 94, 16,\n",
              "       45, 97, 98, 62, 20, 26, 25, 71, 65])>"
            ]
          },
          "metadata": {},
          "execution_count": 166
        }
      ]
    },
    {
      "cell_type": "code",
      "source": [
        "tf.abs(a)"
      ],
      "metadata": {
        "colab": {
          "base_uri": "https://localhost:8080/"
        },
        "id": "e1980HSRiu2M",
        "outputId": "ed6b7bd3-9944-44c7-edcc-7118ec557d5d"
      },
      "execution_count": 167,
      "outputs": [
        {
          "output_type": "execute_result",
          "data": {
            "text/plain": [
              "<tf.Tensor: shape=(60,), dtype=int64, numpy=\n",
              "array([44, 59, 68, 82, 75, 97, 44, 81, 47, 39, 95, 63, 43, 81, 72, 58, 47,\n",
              "       91, 88, 91, 96, 65, 52, 18, 98, 43, 58, 33, 28, 90, 80, 44, 22, 81,\n",
              "       38, 28, 79, 60, 18, 26, 25, 60, 88, 40, 77, 60, 71, 14, 97, 94, 16,\n",
              "       45, 97, 98, 62, 20, 26, 25, 71, 65])>"
            ]
          },
          "metadata": {},
          "execution_count": 167
        }
      ]
    },
    {
      "cell_type": "code",
      "source": [
        "tf.reduce_min(a).numpy()"
      ],
      "metadata": {
        "colab": {
          "base_uri": "https://localhost:8080/"
        },
        "id": "k9JeClegiu0D",
        "outputId": "93a419fb-60d2-4dcc-9891-9dbf3a40c25c"
      },
      "execution_count": 168,
      "outputs": [
        {
          "output_type": "execute_result",
          "data": {
            "text/plain": [
              "14"
            ]
          },
          "metadata": {},
          "execution_count": 168
        }
      ]
    },
    {
      "cell_type": "code",
      "source": [
        "tf.reduce_max(a)"
      ],
      "metadata": {
        "colab": {
          "base_uri": "https://localhost:8080/"
        },
        "id": "qnwiajQQvEpi",
        "outputId": "5d8b4cea-d6b5-4f00-d511-cf17a5995a5a"
      },
      "execution_count": 169,
      "outputs": [
        {
          "output_type": "execute_result",
          "data": {
            "text/plain": [
              "<tf.Tensor: shape=(), dtype=int64, numpy=98>"
            ]
          },
          "metadata": {},
          "execution_count": 169
        }
      ]
    },
    {
      "cell_type": "code",
      "source": [
        "tf.reduce_sum(a)"
      ],
      "metadata": {
        "colab": {
          "base_uri": "https://localhost:8080/"
        },
        "id": "Y_5EmQEtvEm5",
        "outputId": "bcbc018b-8387-4fb2-d87d-39d60b53a5aa"
      },
      "execution_count": 170,
      "outputs": [
        {
          "output_type": "execute_result",
          "data": {
            "text/plain": [
              "<tf.Tensor: shape=(), dtype=int64, numpy=3573>"
            ]
          },
          "metadata": {},
          "execution_count": 170
        }
      ]
    },
    {
      "cell_type": "code",
      "source": [
        "tf.reduce_mean(a)"
      ],
      "metadata": {
        "colab": {
          "base_uri": "https://localhost:8080/"
        },
        "id": "T4znlV9avEiJ",
        "outputId": "93e2ebd0-f1bc-4106-8fd0-0b0b32678f17"
      },
      "execution_count": 171,
      "outputs": [
        {
          "output_type": "execute_result",
          "data": {
            "text/plain": [
              "<tf.Tensor: shape=(), dtype=int64, numpy=59>"
            ]
          },
          "metadata": {},
          "execution_count": 171
        }
      ]
    },
    {
      "cell_type": "code",
      "source": [
        "tf.math.reduce_variance(tf.cast(a,dtype = tf.float16))"
      ],
      "metadata": {
        "colab": {
          "base_uri": "https://localhost:8080/"
        },
        "id": "-0ANsIaPvEgG",
        "outputId": "15f391c6-1d38-4342-cca0-49aefef1ba56"
      },
      "execution_count": 172,
      "outputs": [
        {
          "output_type": "execute_result",
          "data": {
            "text/plain": [
              "<tf.Tensor: shape=(), dtype=float16, numpy=668.5>"
            ]
          },
          "metadata": {},
          "execution_count": 172
        }
      ]
    },
    {
      "cell_type": "code",
      "source": [
        "tf.math.reduce_std(tf.cast(a, dtype = tf.float16))"
      ],
      "metadata": {
        "colab": {
          "base_uri": "https://localhost:8080/"
        },
        "id": "koW6AwLuvEdt",
        "outputId": "e49c60d6-a7ee-4809-bbc5-57959b6886d9"
      },
      "execution_count": 173,
      "outputs": [
        {
          "output_type": "execute_result",
          "data": {
            "text/plain": [
              "<tf.Tensor: shape=(), dtype=float16, numpy=25.86>"
            ]
          },
          "metadata": {},
          "execution_count": 173
        }
      ]
    },
    {
      "cell_type": "markdown",
      "source": [
        "**Positional index of minimum and maximum values in tensorflow**"
      ],
      "metadata": {
        "id": "InAecMsO_XBu"
      }
    },
    {
      "cell_type": "code",
      "source": [
        "# create a random \n",
        "tf.random.set_seed(42)\n",
        "a = tf.random.uniform(shape = [50])\n",
        "a"
      ],
      "metadata": {
        "colab": {
          "base_uri": "https://localhost:8080/"
        },
        "id": "EKIkpTI30QhL",
        "outputId": "8b5c20dd-128c-4528-ef71-63e8d1c6860b"
      },
      "execution_count": 174,
      "outputs": [
        {
          "output_type": "execute_result",
          "data": {
            "text/plain": [
              "<tf.Tensor: shape=(50,), dtype=float32, numpy=\n",
              "array([0.6645621 , 0.44100678, 0.3528825 , 0.46448255, 0.03366041,\n",
              "       0.68467236, 0.74011743, 0.8724445 , 0.22632635, 0.22319686,\n",
              "       0.3103881 , 0.7223358 , 0.13318717, 0.5480639 , 0.5746088 ,\n",
              "       0.8996835 , 0.00946367, 0.5212307 , 0.6345445 , 0.1993283 ,\n",
              "       0.72942245, 0.54583454, 0.10756552, 0.6767061 , 0.6602763 ,\n",
              "       0.33695042, 0.60141766, 0.21062577, 0.8527372 , 0.44062173,\n",
              "       0.9485276 , 0.23752594, 0.81179297, 0.5263394 , 0.494308  ,\n",
              "       0.21612847, 0.8457197 , 0.8718841 , 0.3083862 , 0.6868038 ,\n",
              "       0.23764038, 0.7817228 , 0.9671384 , 0.06870162, 0.79873943,\n",
              "       0.66028714, 0.5871513 , 0.16461694, 0.7381023 , 0.32054043],\n",
              "      dtype=float32)>"
            ]
          },
          "metadata": {},
          "execution_count": 174
        }
      ]
    },
    {
      "cell_type": "code",
      "source": [
        "# return the index position of the minimum value in the set\n",
        "tf.argmin(a)"
      ],
      "metadata": {
        "colab": {
          "base_uri": "https://localhost:8080/"
        },
        "id": "HU8IBFEL_zj3",
        "outputId": "8b63e740-df5a-44c7-b121-38776de9baf7"
      },
      "execution_count": 175,
      "outputs": [
        {
          "output_type": "execute_result",
          "data": {
            "text/plain": [
              "<tf.Tensor: shape=(), dtype=int64, numpy=16>"
            ]
          },
          "metadata": {},
          "execution_count": 175
        }
      ]
    },
    {
      "cell_type": "code",
      "source": [
        "# return the index position of the maximum value in the set\n",
        "tf.argmax(a)"
      ],
      "metadata": {
        "colab": {
          "base_uri": "https://localhost:8080/"
        },
        "id": "W0xBcUZy_8u4",
        "outputId": "d143510a-a35b-4177-8506-ea0b0240a2d7"
      },
      "execution_count": 176,
      "outputs": [
        {
          "output_type": "execute_result",
          "data": {
            "text/plain": [
              "<tf.Tensor: shape=(), dtype=int64, numpy=42>"
            ]
          },
          "metadata": {},
          "execution_count": 176
        }
      ]
    },
    {
      "cell_type": "code",
      "source": [
        "print(a[tf.argmin(a)])\n",
        "print(a[tf.argmax(a)])"
      ],
      "metadata": {
        "colab": {
          "base_uri": "https://localhost:8080/"
        },
        "id": "zQVIRmP8AGxj",
        "outputId": "62f83204-8f38-45b4-aa6e-7d481ca8db2f"
      },
      "execution_count": 177,
      "outputs": [
        {
          "output_type": "stream",
          "name": "stdout",
          "text": [
            "tf.Tensor(0.009463668, shape=(), dtype=float32)\n",
            "tf.Tensor(0.9671384, shape=(), dtype=float32)\n"
          ]
        }
      ]
    },
    {
      "cell_type": "markdown",
      "source": [
        "**Squeezing the 1 dimentional levels from Tensors**"
      ],
      "metadata": {
        "id": "EdpP7cpEBL_W"
      }
    },
    {
      "cell_type": "code",
      "source": [
        "# creating a 5 dimentional (5th rank) tensor with 4 1 level dimensions\n",
        "tf.random.set_seed(42)\n",
        "a = tf.constant(tf.random.uniform(shape = [50]), shape = [1,1,1,1,50])\n",
        "a"
      ],
      "metadata": {
        "colab": {
          "base_uri": "https://localhost:8080/"
        },
        "id": "yOl3ImMiANir",
        "outputId": "8951ec3f-4439-41ce-9f24-3d0d5d456920"
      },
      "execution_count": 178,
      "outputs": [
        {
          "output_type": "execute_result",
          "data": {
            "text/plain": [
              "<tf.Tensor: shape=(1, 1, 1, 1, 50), dtype=float32, numpy=\n",
              "array([[[[[0.6645621 , 0.44100678, 0.3528825 , 0.46448255, 0.03366041,\n",
              "           0.68467236, 0.74011743, 0.8724445 , 0.22632635, 0.22319686,\n",
              "           0.3103881 , 0.7223358 , 0.13318717, 0.5480639 , 0.5746088 ,\n",
              "           0.8996835 , 0.00946367, 0.5212307 , 0.6345445 , 0.1993283 ,\n",
              "           0.72942245, 0.54583454, 0.10756552, 0.6767061 , 0.6602763 ,\n",
              "           0.33695042, 0.60141766, 0.21062577, 0.8527372 , 0.44062173,\n",
              "           0.9485276 , 0.23752594, 0.81179297, 0.5263394 , 0.494308  ,\n",
              "           0.21612847, 0.8457197 , 0.8718841 , 0.3083862 , 0.6868038 ,\n",
              "           0.23764038, 0.7817228 , 0.9671384 , 0.06870162, 0.79873943,\n",
              "           0.66028714, 0.5871513 , 0.16461694, 0.7381023 , 0.32054043]]]]],\n",
              "      dtype=float32)>"
            ]
          },
          "metadata": {},
          "execution_count": 178
        }
      ]
    },
    {
      "cell_type": "code",
      "source": [
        "a.shape, a.ndim"
      ],
      "metadata": {
        "colab": {
          "base_uri": "https://localhost:8080/"
        },
        "id": "XeKiCZsBBfp-",
        "outputId": "92734726-02c8-4f61-e426-149b46441238"
      },
      "execution_count": 179,
      "outputs": [
        {
          "output_type": "execute_result",
          "data": {
            "text/plain": [
              "(TensorShape([1, 1, 1, 1, 50]), 5)"
            ]
          },
          "metadata": {},
          "execution_count": 179
        }
      ]
    },
    {
      "cell_type": "code",
      "source": [
        "# sqeezing the tensor by removing the unnecessary dimensions\n",
        "b = tf.squeeze(a)\n",
        "b"
      ],
      "metadata": {
        "colab": {
          "base_uri": "https://localhost:8080/"
        },
        "id": "GxXuJAOYCQ5C",
        "outputId": "d68b3607-87ad-480c-dcb6-534bef5a2afc"
      },
      "execution_count": 180,
      "outputs": [
        {
          "output_type": "execute_result",
          "data": {
            "text/plain": [
              "<tf.Tensor: shape=(50,), dtype=float32, numpy=\n",
              "array([0.6645621 , 0.44100678, 0.3528825 , 0.46448255, 0.03366041,\n",
              "       0.68467236, 0.74011743, 0.8724445 , 0.22632635, 0.22319686,\n",
              "       0.3103881 , 0.7223358 , 0.13318717, 0.5480639 , 0.5746088 ,\n",
              "       0.8996835 , 0.00946367, 0.5212307 , 0.6345445 , 0.1993283 ,\n",
              "       0.72942245, 0.54583454, 0.10756552, 0.6767061 , 0.6602763 ,\n",
              "       0.33695042, 0.60141766, 0.21062577, 0.8527372 , 0.44062173,\n",
              "       0.9485276 , 0.23752594, 0.81179297, 0.5263394 , 0.494308  ,\n",
              "       0.21612847, 0.8457197 , 0.8718841 , 0.3083862 , 0.6868038 ,\n",
              "       0.23764038, 0.7817228 , 0.9671384 , 0.06870162, 0.79873943,\n",
              "       0.66028714, 0.5871513 , 0.16461694, 0.7381023 , 0.32054043],\n",
              "      dtype=float32)>"
            ]
          },
          "metadata": {},
          "execution_count": 180
        }
      ]
    },
    {
      "cell_type": "code",
      "source": [
        "b.shape, b.ndim"
      ],
      "metadata": {
        "colab": {
          "base_uri": "https://localhost:8080/"
        },
        "id": "03kMsJL_CXS5",
        "outputId": "85bf2aa1-3aa6-44c3-838c-a2d549c041b9"
      },
      "execution_count": 181,
      "outputs": [
        {
          "output_type": "execute_result",
          "data": {
            "text/plain": [
              "(TensorShape([50]), 1)"
            ]
          },
          "metadata": {},
          "execution_count": 181
        }
      ]
    },
    {
      "cell_type": "markdown",
      "source": [
        "**One Hot Encoding for TensorFlow**"
      ],
      "metadata": {
        "id": "yTNk94R3EAZ3"
      }
    },
    {
      "cell_type": "markdown",
      "source": [
        "tf.one_hot(), \n",
        "\n",
        "indices = tensor, or a list\n",
        "\n",
        "depth = upto which level we wanted the encoding"
      ],
      "metadata": {
        "id": "kLmSoAnEEi7Y"
      }
    },
    {
      "cell_type": "code",
      "source": [
        "l = [0,1,2,3,4]"
      ],
      "metadata": {
        "id": "rBwMGpqBC11G"
      },
      "execution_count": 182,
      "outputs": []
    },
    {
      "cell_type": "code",
      "source": [
        "tf.one_hot(l, depth = len(l))"
      ],
      "metadata": {
        "colab": {
          "base_uri": "https://localhost:8080/"
        },
        "id": "2fuTTtQpEJzp",
        "outputId": "e8fe29c9-ecc3-485b-897e-1d00b887a32a"
      },
      "execution_count": 183,
      "outputs": [
        {
          "output_type": "execute_result",
          "data": {
            "text/plain": [
              "<tf.Tensor: shape=(5, 5), dtype=float32, numpy=\n",
              "array([[1., 0., 0., 0., 0.],\n",
              "       [0., 1., 0., 0., 0.],\n",
              "       [0., 0., 1., 0., 0.],\n",
              "       [0., 0., 0., 1., 0.],\n",
              "       [0., 0., 0., 0., 1.]], dtype=float32)>"
            ]
          },
          "metadata": {},
          "execution_count": 183
        }
      ]
    },
    {
      "cell_type": "code",
      "source": [
        "tf.one_hot(l, depth = 3)"
      ],
      "metadata": {
        "colab": {
          "base_uri": "https://localhost:8080/"
        },
        "id": "T02MQ3j_EV3w",
        "outputId": "09f78e1d-00a5-45f5-8059-6a37aef2a6ee"
      },
      "execution_count": 184,
      "outputs": [
        {
          "output_type": "execute_result",
          "data": {
            "text/plain": [
              "<tf.Tensor: shape=(5, 3), dtype=float32, numpy=\n",
              "array([[1., 0., 0.],\n",
              "       [0., 1., 0.],\n",
              "       [0., 0., 1.],\n",
              "       [0., 0., 0.],\n",
              "       [0., 0., 0.]], dtype=float32)>"
            ]
          },
          "metadata": {},
          "execution_count": 184
        }
      ]
    },
    {
      "cell_type": "markdown",
      "source": [
        "**Square, Square Root, Log**"
      ],
      "metadata": {
        "id": "OxpqSXH3Fvpx"
      }
    },
    {
      "cell_type": "code",
      "source": [
        "a = tf.range(1,10)\n",
        "a"
      ],
      "metadata": {
        "colab": {
          "base_uri": "https://localhost:8080/"
        },
        "id": "D45vsi51Ed3X",
        "outputId": "04692a0a-7d03-4917-d54d-11c5e1b9a9e7"
      },
      "execution_count": 185,
      "outputs": [
        {
          "output_type": "execute_result",
          "data": {
            "text/plain": [
              "<tf.Tensor: shape=(9,), dtype=int32, numpy=array([1, 2, 3, 4, 5, 6, 7, 8, 9], dtype=int32)>"
            ]
          },
          "metadata": {},
          "execution_count": 185
        }
      ]
    },
    {
      "cell_type": "code",
      "source": [
        "tf.square(a)"
      ],
      "metadata": {
        "colab": {
          "base_uri": "https://localhost:8080/"
        },
        "id": "B-GHq99lF3VM",
        "outputId": "23f7b2d5-ad38-4ad5-841a-e3820089b643"
      },
      "execution_count": 186,
      "outputs": [
        {
          "output_type": "execute_result",
          "data": {
            "text/plain": [
              "<tf.Tensor: shape=(9,), dtype=int32, numpy=array([ 1,  4,  9, 16, 25, 36, 49, 64, 81], dtype=int32)>"
            ]
          },
          "metadata": {},
          "execution_count": 186
        }
      ]
    },
    {
      "cell_type": "code",
      "source": [
        "# the values has be non-int for the sqrt to work\n",
        "tf.sqrt(tf.cast(a, dtype = tf.float32))"
      ],
      "metadata": {
        "colab": {
          "base_uri": "https://localhost:8080/"
        },
        "id": "PKUGjOzUF60S",
        "outputId": "45fbd743-a053-4423-a5d0-0f88a78c3df3"
      },
      "execution_count": 187,
      "outputs": [
        {
          "output_type": "execute_result",
          "data": {
            "text/plain": [
              "<tf.Tensor: shape=(9,), dtype=float32, numpy=\n",
              "array([1.       , 1.4142135, 1.7320508, 2.       , 2.2360678, 2.4494896,\n",
              "       2.6457512, 2.828427 , 3.       ], dtype=float32)>"
            ]
          },
          "metadata": {},
          "execution_count": 187
        }
      ]
    },
    {
      "cell_type": "code",
      "source": [
        "# the values has be non-int for the sqrt to work\n",
        "# note the usage of tf.math for log\n",
        "tf.math.log(tf.cast(a, dtype = tf.float32))"
      ],
      "metadata": {
        "colab": {
          "base_uri": "https://localhost:8080/"
        },
        "id": "Q8zC7_uWF-js",
        "outputId": "28486a52-86fa-47b4-c69c-37f3056fff5e"
      },
      "execution_count": 188,
      "outputs": [
        {
          "output_type": "execute_result",
          "data": {
            "text/plain": [
              "<tf.Tensor: shape=(9,), dtype=float32, numpy=\n",
              "array([0.       , 0.6931472, 1.0986123, 1.3862944, 1.609438 , 1.7917595,\n",
              "       1.9459102, 2.0794415, 2.1972246], dtype=float32)>"
            ]
          },
          "metadata": {},
          "execution_count": 188
        }
      ]
    },
    {
      "cell_type": "markdown",
      "source": [
        "**Tensors and Numpy Arrays**"
      ],
      "metadata": {
        "id": "_LHk18rYHeR8"
      }
    },
    {
      "cell_type": "code",
      "source": [
        "# tensor from numpy array\n",
        "a = tf.constant(np.array([3.2,1,0]))\n",
        "a"
      ],
      "metadata": {
        "colab": {
          "base_uri": "https://localhost:8080/"
        },
        "id": "Lri5XnB8GOO-",
        "outputId": "57f5811e-816d-4450-85af-1f918d37e236"
      },
      "execution_count": 189,
      "outputs": [
        {
          "output_type": "execute_result",
          "data": {
            "text/plain": [
              "<tf.Tensor: shape=(3,), dtype=float64, numpy=array([3.2, 1. , 0. ])>"
            ]
          },
          "metadata": {},
          "execution_count": 189
        }
      ]
    },
    {
      "cell_type": "code",
      "source": [
        "# converting tensors back to numpy - method 1\n",
        "np.array(a)"
      ],
      "metadata": {
        "colab": {
          "base_uri": "https://localhost:8080/"
        },
        "id": "vwLq4E0vHp4W",
        "outputId": "b7bbb94b-150d-4707-bb02-8618a10c970a"
      },
      "execution_count": 190,
      "outputs": [
        {
          "output_type": "execute_result",
          "data": {
            "text/plain": [
              "array([3.2, 1. , 0. ])"
            ]
          },
          "metadata": {},
          "execution_count": 190
        }
      ]
    },
    {
      "cell_type": "code",
      "source": [
        "# converting tensors back to numpy - method 2\n",
        "a.numpy()"
      ],
      "metadata": {
        "colab": {
          "base_uri": "https://localhost:8080/"
        },
        "id": "zt7apADrHyiZ",
        "outputId": "a29fd051-5152-4158-dab5-a41acd76c193"
      },
      "execution_count": 191,
      "outputs": [
        {
          "output_type": "execute_result",
          "data": {
            "text/plain": [
              "array([3.2, 1. , 0. ])"
            ]
          },
          "metadata": {},
          "execution_count": 191
        }
      ]
    },
    {
      "cell_type": "code",
      "source": [
        "# check the basic data type of tensors from and numpy and direct tensors\n",
        "\n",
        "# basic dtype of tensors from numpy array is tf.float64\n",
        "# basic dtype of tensors direct is tf.float32\n",
        "\n",
        "a = tf.constant(np.array([2.1,3,4]))\n",
        "b = tf.constant([2.1,3,4])\n",
        "\n",
        "a.dtype, b.dtype"
      ],
      "metadata": {
        "colab": {
          "base_uri": "https://localhost:8080/"
        },
        "id": "G8ln2YEEH2Pl",
        "outputId": "a0fecb11-f9b8-4ee4-9bde-5215896c2a46"
      },
      "execution_count": 192,
      "outputs": [
        {
          "output_type": "execute_result",
          "data": {
            "text/plain": [
              "(tf.float64, tf.float32)"
            ]
          },
          "metadata": {},
          "execution_count": 192
        }
      ]
    },
    {
      "cell_type": "markdown",
      "source": [
        "Go to Runtime > Change Runtime > Change CPU "
      ],
      "metadata": {
        "id": "6x0qjZmMN0vP"
      }
    },
    {
      "cell_type": "code",
      "source": [
        "tf.config.list_logical_devices()"
      ],
      "metadata": {
        "colab": {
          "base_uri": "https://localhost:8080/"
        },
        "id": "Wcj2DyhEIU0e",
        "outputId": "5460c116-8dad-4b5c-9e8b-3942fa425850"
      },
      "execution_count": 193,
      "outputs": [
        {
          "output_type": "execute_result",
          "data": {
            "text/plain": [
              "[LogicalDevice(name='/device:CPU:0', device_type='CPU'),\n",
              " LogicalDevice(name='/device:GPU:0', device_type='GPU')]"
            ]
          },
          "metadata": {},
          "execution_count": 193
        }
      ]
    },
    {
      "cell_type": "code",
      "source": [
        "!nvidia-smi"
      ],
      "metadata": {
        "colab": {
          "base_uri": "https://localhost:8080/"
        },
        "id": "4ZSSJSQSN8GB",
        "outputId": "0ffab423-49c0-4cce-b463-afe025bdbc69"
      },
      "execution_count": 194,
      "outputs": [
        {
          "output_type": "stream",
          "name": "stdout",
          "text": [
            "Thu Jan  5 14:01:18 2023       \n",
            "+-----------------------------------------------------------------------------+\n",
            "| NVIDIA-SMI 460.32.03    Driver Version: 460.32.03    CUDA Version: 11.2     |\n",
            "|-------------------------------+----------------------+----------------------+\n",
            "| GPU  Name        Persistence-M| Bus-Id        Disp.A | Volatile Uncorr. ECC |\n",
            "| Fan  Temp  Perf  Pwr:Usage/Cap|         Memory-Usage | GPU-Util  Compute M. |\n",
            "|                               |                      |               MIG M. |\n",
            "|===============================+======================+======================|\n",
            "|   0  Tesla T4            Off  | 00000000:00:04.0 Off |                    0 |\n",
            "| N/A   74C    P0    31W /  70W |    314MiB / 15109MiB |      0%      Default |\n",
            "|                               |                      |                  N/A |\n",
            "+-------------------------------+----------------------+----------------------+\n",
            "                                                                               \n",
            "+-----------------------------------------------------------------------------+\n",
            "| Processes:                                                                  |\n",
            "|  GPU   GI   CI        PID   Type   Process name                  GPU Memory |\n",
            "|        ID   ID                                                   Usage      |\n",
            "|=============================================================================|\n",
            "+-----------------------------------------------------------------------------+\n"
          ]
        }
      ]
    }
  ]
}