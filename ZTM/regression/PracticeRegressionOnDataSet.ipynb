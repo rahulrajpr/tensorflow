{
  "nbformat": 4,
  "nbformat_minor": 0,
  "metadata": {
    "colab": {
      "provenance": [],
      "authorship_tag": "ABX9TyOggZf6GCJhy6La4ZHvuHSq",
      "include_colab_link": true
    },
    "kernelspec": {
      "name": "python3",
      "display_name": "Python 3"
    },
    "language_info": {
      "name": "python"
    }
  },
  "cells": [
    {
      "cell_type": "markdown",
      "metadata": {
        "id": "view-in-github",
        "colab_type": "text"
      },
      "source": [
        "<a href=\"https://colab.research.google.com/github/rahulrajpr/TensorFlowDeveloperCertifcateTraining/blob/NeuralNetworkRegression/PracticeRegressionOnDataSet.ipynb\" target=\"_parent\"><img src=\"https://colab.research.google.com/assets/colab-badge.svg\" alt=\"Open In Colab\"/></a>"
      ]
    },
    {
      "cell_type": "code",
      "execution_count": 63,
      "metadata": {
        "id": "OPo7LOKonL0n"
      },
      "outputs": [],
      "source": [
        "import tensorflow as tf\n",
        "import pandas as pd\n",
        "import numpy as np\n",
        "import matplotlib.pyplot as plt\n",
        "import warnings\n",
        "warnings.filterwarnings('ignore')"
      ]
    },
    {
      "cell_type": "code",
      "source": [
        "path = 'https://raw.githubusercontent.com/stedy/Machine-Learning-with-R-datasets/master/insurance.csv'\n",
        "insurance = pd.read_csv(path)\n",
        "insurance.head()"
      ],
      "metadata": {
        "colab": {
          "base_uri": "https://localhost:8080/",
          "height": 206
        },
        "id": "9HTlWr73nl37",
        "outputId": "5c24ccc6-af53-4e32-e7ee-c97caad7ad33"
      },
      "execution_count": 64,
      "outputs": [
        {
          "output_type": "execute_result",
          "data": {
            "text/plain": [
              "   age     sex     bmi  children smoker     region      charges\n",
              "0   19  female  27.900         0    yes  southwest  16884.92400\n",
              "1   18    male  33.770         1     no  southeast   1725.55230\n",
              "2   28    male  33.000         3     no  southeast   4449.46200\n",
              "3   33    male  22.705         0     no  northwest  21984.47061\n",
              "4   32    male  28.880         0     no  northwest   3866.85520"
            ],
            "text/html": [
              "\n",
              "  <div id=\"df-65c0b0a6-845c-4282-af83-7531ccbdee4c\">\n",
              "    <div class=\"colab-df-container\">\n",
              "      <div>\n",
              "<style scoped>\n",
              "    .dataframe tbody tr th:only-of-type {\n",
              "        vertical-align: middle;\n",
              "    }\n",
              "\n",
              "    .dataframe tbody tr th {\n",
              "        vertical-align: top;\n",
              "    }\n",
              "\n",
              "    .dataframe thead th {\n",
              "        text-align: right;\n",
              "    }\n",
              "</style>\n",
              "<table border=\"1\" class=\"dataframe\">\n",
              "  <thead>\n",
              "    <tr style=\"text-align: right;\">\n",
              "      <th></th>\n",
              "      <th>age</th>\n",
              "      <th>sex</th>\n",
              "      <th>bmi</th>\n",
              "      <th>children</th>\n",
              "      <th>smoker</th>\n",
              "      <th>region</th>\n",
              "      <th>charges</th>\n",
              "    </tr>\n",
              "  </thead>\n",
              "  <tbody>\n",
              "    <tr>\n",
              "      <th>0</th>\n",
              "      <td>19</td>\n",
              "      <td>female</td>\n",
              "      <td>27.900</td>\n",
              "      <td>0</td>\n",
              "      <td>yes</td>\n",
              "      <td>southwest</td>\n",
              "      <td>16884.92400</td>\n",
              "    </tr>\n",
              "    <tr>\n",
              "      <th>1</th>\n",
              "      <td>18</td>\n",
              "      <td>male</td>\n",
              "      <td>33.770</td>\n",
              "      <td>1</td>\n",
              "      <td>no</td>\n",
              "      <td>southeast</td>\n",
              "      <td>1725.55230</td>\n",
              "    </tr>\n",
              "    <tr>\n",
              "      <th>2</th>\n",
              "      <td>28</td>\n",
              "      <td>male</td>\n",
              "      <td>33.000</td>\n",
              "      <td>3</td>\n",
              "      <td>no</td>\n",
              "      <td>southeast</td>\n",
              "      <td>4449.46200</td>\n",
              "    </tr>\n",
              "    <tr>\n",
              "      <th>3</th>\n",
              "      <td>33</td>\n",
              "      <td>male</td>\n",
              "      <td>22.705</td>\n",
              "      <td>0</td>\n",
              "      <td>no</td>\n",
              "      <td>northwest</td>\n",
              "      <td>21984.47061</td>\n",
              "    </tr>\n",
              "    <tr>\n",
              "      <th>4</th>\n",
              "      <td>32</td>\n",
              "      <td>male</td>\n",
              "      <td>28.880</td>\n",
              "      <td>0</td>\n",
              "      <td>no</td>\n",
              "      <td>northwest</td>\n",
              "      <td>3866.85520</td>\n",
              "    </tr>\n",
              "  </tbody>\n",
              "</table>\n",
              "</div>\n",
              "      <button class=\"colab-df-convert\" onclick=\"convertToInteractive('df-65c0b0a6-845c-4282-af83-7531ccbdee4c')\"\n",
              "              title=\"Convert this dataframe to an interactive table.\"\n",
              "              style=\"display:none;\">\n",
              "        \n",
              "  <svg xmlns=\"http://www.w3.org/2000/svg\" height=\"24px\"viewBox=\"0 0 24 24\"\n",
              "       width=\"24px\">\n",
              "    <path d=\"M0 0h24v24H0V0z\" fill=\"none\"/>\n",
              "    <path d=\"M18.56 5.44l.94 2.06.94-2.06 2.06-.94-2.06-.94-.94-2.06-.94 2.06-2.06.94zm-11 1L8.5 8.5l.94-2.06 2.06-.94-2.06-.94L8.5 2.5l-.94 2.06-2.06.94zm10 10l.94 2.06.94-2.06 2.06-.94-2.06-.94-.94-2.06-.94 2.06-2.06.94z\"/><path d=\"M17.41 7.96l-1.37-1.37c-.4-.4-.92-.59-1.43-.59-.52 0-1.04.2-1.43.59L10.3 9.45l-7.72 7.72c-.78.78-.78 2.05 0 2.83L4 21.41c.39.39.9.59 1.41.59.51 0 1.02-.2 1.41-.59l7.78-7.78 2.81-2.81c.8-.78.8-2.07 0-2.86zM5.41 20L4 18.59l7.72-7.72 1.47 1.35L5.41 20z\"/>\n",
              "  </svg>\n",
              "      </button>\n",
              "      \n",
              "  <style>\n",
              "    .colab-df-container {\n",
              "      display:flex;\n",
              "      flex-wrap:wrap;\n",
              "      gap: 12px;\n",
              "    }\n",
              "\n",
              "    .colab-df-convert {\n",
              "      background-color: #E8F0FE;\n",
              "      border: none;\n",
              "      border-radius: 50%;\n",
              "      cursor: pointer;\n",
              "      display: none;\n",
              "      fill: #1967D2;\n",
              "      height: 32px;\n",
              "      padding: 0 0 0 0;\n",
              "      width: 32px;\n",
              "    }\n",
              "\n",
              "    .colab-df-convert:hover {\n",
              "      background-color: #E2EBFA;\n",
              "      box-shadow: 0px 1px 2px rgba(60, 64, 67, 0.3), 0px 1px 3px 1px rgba(60, 64, 67, 0.15);\n",
              "      fill: #174EA6;\n",
              "    }\n",
              "\n",
              "    [theme=dark] .colab-df-convert {\n",
              "      background-color: #3B4455;\n",
              "      fill: #D2E3FC;\n",
              "    }\n",
              "\n",
              "    [theme=dark] .colab-df-convert:hover {\n",
              "      background-color: #434B5C;\n",
              "      box-shadow: 0px 1px 3px 1px rgba(0, 0, 0, 0.15);\n",
              "      filter: drop-shadow(0px 1px 2px rgba(0, 0, 0, 0.3));\n",
              "      fill: #FFFFFF;\n",
              "    }\n",
              "  </style>\n",
              "\n",
              "      <script>\n",
              "        const buttonEl =\n",
              "          document.querySelector('#df-65c0b0a6-845c-4282-af83-7531ccbdee4c button.colab-df-convert');\n",
              "        buttonEl.style.display =\n",
              "          google.colab.kernel.accessAllowed ? 'block' : 'none';\n",
              "\n",
              "        async function convertToInteractive(key) {\n",
              "          const element = document.querySelector('#df-65c0b0a6-845c-4282-af83-7531ccbdee4c');\n",
              "          const dataTable =\n",
              "            await google.colab.kernel.invokeFunction('convertToInteractive',\n",
              "                                                     [key], {});\n",
              "          if (!dataTable) return;\n",
              "\n",
              "          const docLinkHtml = 'Like what you see? Visit the ' +\n",
              "            '<a target=\"_blank\" href=https://colab.research.google.com/notebooks/data_table.ipynb>data table notebook</a>'\n",
              "            + ' to learn more about interactive tables.';\n",
              "          element.innerHTML = '';\n",
              "          dataTable['output_type'] = 'display_data';\n",
              "          await google.colab.output.renderOutput(dataTable, element);\n",
              "          const docLink = document.createElement('div');\n",
              "          docLink.innerHTML = docLinkHtml;\n",
              "          element.appendChild(docLink);\n",
              "        }\n",
              "      </script>\n",
              "    </div>\n",
              "  </div>\n",
              "  "
            ]
          },
          "metadata": {},
          "execution_count": 64
        }
      ]
    },
    {
      "cell_type": "code",
      "source": [
        "insurance.isnull().sum()"
      ],
      "metadata": {
        "colab": {
          "base_uri": "https://localhost:8080/"
        },
        "id": "7UCyeB90n5vy",
        "outputId": "04595417-f33e-403a-d8ba-081ef221f6bf"
      },
      "execution_count": 65,
      "outputs": [
        {
          "output_type": "execute_result",
          "data": {
            "text/plain": [
              "age         0\n",
              "sex         0\n",
              "bmi         0\n",
              "children    0\n",
              "smoker      0\n",
              "region      0\n",
              "charges     0\n",
              "dtype: int64"
            ]
          },
          "metadata": {},
          "execution_count": 65
        }
      ]
    },
    {
      "cell_type": "code",
      "source": [
        "insurance.info()"
      ],
      "metadata": {
        "colab": {
          "base_uri": "https://localhost:8080/"
        },
        "id": "3GdTyY-Wn2bW",
        "outputId": "3ff26bdd-1237-4f4c-d302-93403db0af0d"
      },
      "execution_count": 66,
      "outputs": [
        {
          "output_type": "stream",
          "name": "stdout",
          "text": [
            "<class 'pandas.core.frame.DataFrame'>\n",
            "RangeIndex: 1338 entries, 0 to 1337\n",
            "Data columns (total 7 columns):\n",
            " #   Column    Non-Null Count  Dtype  \n",
            "---  ------    --------------  -----  \n",
            " 0   age       1338 non-null   int64  \n",
            " 1   sex       1338 non-null   object \n",
            " 2   bmi       1338 non-null   float64\n",
            " 3   children  1338 non-null   int64  \n",
            " 4   smoker    1338 non-null   object \n",
            " 5   region    1338 non-null   object \n",
            " 6   charges   1338 non-null   float64\n",
            "dtypes: float64(2), int64(2), object(3)\n",
            "memory usage: 73.3+ KB\n"
          ]
        }
      ]
    },
    {
      "cell_type": "code",
      "source": [
        "insurance.select_dtypes(include = 'object').nunique()"
      ],
      "metadata": {
        "colab": {
          "base_uri": "https://localhost:8080/"
        },
        "id": "jRgWJZiMp9Kl",
        "outputId": "09528058-350c-469f-f359-3745e545f96c"
      },
      "execution_count": 67,
      "outputs": [
        {
          "output_type": "execute_result",
          "data": {
            "text/plain": [
              "sex       2\n",
              "smoker    2\n",
              "region    4\n",
              "dtype: int64"
            ]
          },
          "metadata": {},
          "execution_count": 67
        }
      ]
    },
    {
      "cell_type": "code",
      "source": [
        "from IPython.core.display import clear_output\n",
        "!pip install feature_engine\n",
        "clear_output()"
      ],
      "metadata": {
        "id": "wYFWKoUToAHN"
      },
      "execution_count": 68,
      "outputs": []
    },
    {
      "cell_type": "markdown",
      "source": [
        "### Lets do the one hot encoding"
      ],
      "metadata": {
        "id": "FEF2BjcasEBd"
      }
    },
    {
      "cell_type": "code",
      "source": [
        "from feature_engine.encoding import OneHotEncoder"
      ],
      "metadata": {
        "id": "bikvEtvjptDA"
      },
      "execution_count": 69,
      "outputs": []
    },
    {
      "cell_type": "code",
      "source": [
        "onehot = OneHotEncoder(drop_last = True)"
      ],
      "metadata": {
        "id": "_YWIocpZptAz"
      },
      "execution_count": 70,
      "outputs": []
    },
    {
      "cell_type": "code",
      "source": [
        "onehot.fit(insurance)"
      ],
      "metadata": {
        "colab": {
          "base_uri": "https://localhost:8080/"
        },
        "id": "KEWwNg5Yps-z",
        "outputId": "74c5d133-c7de-45bc-8f3d-01255220f35c"
      },
      "execution_count": 71,
      "outputs": [
        {
          "output_type": "execute_result",
          "data": {
            "text/plain": [
              "OneHotEncoder(drop_last=True)"
            ]
          },
          "metadata": {},
          "execution_count": 71
        }
      ]
    },
    {
      "cell_type": "code",
      "source": [
        "insurance = onehot.transform(insurance)"
      ],
      "metadata": {
        "id": "WPlkspYEps82"
      },
      "execution_count": 72,
      "outputs": []
    },
    {
      "cell_type": "code",
      "source": [
        "insurance.info()"
      ],
      "metadata": {
        "colab": {
          "base_uri": "https://localhost:8080/"
        },
        "id": "WyshDemsps6o",
        "outputId": "32301d7f-372e-4953-8857-a978f83644b0"
      },
      "execution_count": 73,
      "outputs": [
        {
          "output_type": "stream",
          "name": "stdout",
          "text": [
            "<class 'pandas.core.frame.DataFrame'>\n",
            "RangeIndex: 1338 entries, 0 to 1337\n",
            "Data columns (total 9 columns):\n",
            " #   Column            Non-Null Count  Dtype  \n",
            "---  ------            --------------  -----  \n",
            " 0   age               1338 non-null   int64  \n",
            " 1   bmi               1338 non-null   float64\n",
            " 2   children          1338 non-null   int64  \n",
            " 3   charges           1338 non-null   float64\n",
            " 4   sex_female        1338 non-null   int64  \n",
            " 5   smoker_yes        1338 non-null   int64  \n",
            " 6   region_southwest  1338 non-null   int64  \n",
            " 7   region_southeast  1338 non-null   int64  \n",
            " 8   region_northwest  1338 non-null   int64  \n",
            "dtypes: float64(2), int64(7)\n",
            "memory usage: 94.2 KB\n"
          ]
        }
      ]
    },
    {
      "cell_type": "markdown",
      "source": [
        "### Create X and y"
      ],
      "metadata": {
        "id": "Mr3kuCdBsOjE"
      }
    },
    {
      "cell_type": "code",
      "source": [
        "X = insurance.drop('charges', axis =1)\n",
        "y = insurance['charges']"
      ],
      "metadata": {
        "id": "5TX6pf7ssNwl"
      },
      "execution_count": 74,
      "outputs": []
    },
    {
      "cell_type": "markdown",
      "source": [
        "**Explore the target variables**"
      ],
      "metadata": {
        "id": "-_dciKrRu_sB"
      }
    },
    {
      "cell_type": "code",
      "source": [
        "plt.figure(figsize = [10,7])\n",
        "plt.hist(y, bins = 15)\n",
        "plt.show()"
      ],
      "metadata": {
        "colab": {
          "base_uri": "https://localhost:8080/",
          "height": 431
        },
        "id": "0Jk97c22vAK1",
        "outputId": "ddd32da2-e4fb-4b42-8315-42e8d9fc4500"
      },
      "execution_count": 75,
      "outputs": [
        {
          "output_type": "display_data",
          "data": {
            "text/plain": [
              "<Figure size 720x504 with 1 Axes>"
            ],
            "image/png": "[encoded data removed]"
          },
          "metadata": {
            "needs_background": "light"
          }
        }
      ]
    },
    {
      "cell_type": "code",
      "source": [
        "y.median(), y.mean()"
      ],
      "metadata": {
        "colab": {
          "base_uri": "https://localhost:8080/"
        },
        "id": "G2hT8HAFvBCM",
        "outputId": "09615795-caa6-4b02-8beb-3db9972139c9"
      },
      "execution_count": 76,
      "outputs": [
        {
          "output_type": "execute_result",
          "data": {
            "text/plain": [
              "(9382.033, 13270.422265141257)"
            ]
          },
          "metadata": {},
          "execution_count": 76
        }
      ]
    },
    {
      "cell_type": "markdown",
      "source": [
        "### Lets do the train-test split"
      ],
      "metadata": {
        "id": "IUtXvJnqsJIv"
      }
    },
    {
      "cell_type": "code",
      "source": [
        "from sklearn.model_selection import train_test_split"
      ],
      "metadata": {
        "id": "649oj92xsI8f"
      },
      "execution_count": 77,
      "outputs": []
    },
    {
      "cell_type": "code",
      "source": [
        "X_train,X_test,y_train,y_test = train_test_split(X,y, train_size = 0.8, random_state = 100)"
      ],
      "metadata": {
        "id": "hmkw9xJ5sI6R"
      },
      "execution_count": 78,
      "outputs": []
    },
    {
      "cell_type": "code",
      "source": [
        "X_train.shape, y_train.shape, X_test.shape, y_test.shape"
      ],
      "metadata": {
        "colab": {
          "base_uri": "https://localhost:8080/"
        },
        "id": "hCry3JqksI11",
        "outputId": "faf0829c-06a7-4323-fdc5-7245e8998333"
      },
      "execution_count": 79,
      "outputs": [
        {
          "output_type": "execute_result",
          "data": {
            "text/plain": [
              "((1070, 8), (1070,), (268, 8), (268,))"
            ]
          },
          "metadata": {},
          "execution_count": 79
        }
      ]
    },
    {
      "cell_type": "markdown",
      "source": [
        "### Scaling of the features\n",
        "\n",
        "Neural Networks prefere Normalisation"
      ],
      "metadata": {
        "id": "UWpjP-8pB0Do"
      }
    },
    {
      "cell_type": "code",
      "source": [
        "from sklearn.preprocessing import MinMaxScaler"
      ],
      "metadata": {
        "id": "f5cffQHMBzYS"
      },
      "execution_count": 80,
      "outputs": []
    },
    {
      "cell_type": "code",
      "source": [
        "scaler = MinMaxScaler()\n",
        "\n",
        "scaler.fit(X_train)"
      ],
      "metadata": {
        "colab": {
          "base_uri": "https://localhost:8080/"
        },
        "id": "sSGd4accBzTA",
        "outputId": "5bcc5662-19d8-421a-8d55-c9cb5a3a0fb8"
      },
      "execution_count": 81,
      "outputs": [
        {
          "output_type": "execute_result",
          "data": {
            "text/plain": [
              "MinMaxScaler()"
            ]
          },
          "metadata": {},
          "execution_count": 81
        }
      ]
    },
    {
      "cell_type": "code",
      "source": [
        "X_train[:] = scaler.transform(X_train)\n",
        "X_test[:] = scaler.transform(X_test)"
      ],
      "metadata": {
        "id": "6k4yU-OBBzL0"
      },
      "execution_count": 82,
      "outputs": []
    },
    {
      "cell_type": "markdown",
      "source": [
        "### Lest try out the base model"
      ],
      "metadata": {
        "id": "9lKJNPGtvti4"
      }
    },
    {
      "cell_type": "code",
      "source": [
        "tf.random.set_seed(42)\n",
        "insurance_model = tf.keras.Sequential(\n",
        "    [tf.keras.layers.Dense(10),\n",
        "     tf.keras.layers.Dense(1)],\n",
        "     name = 'base_model'\n",
        ")"
      ],
      "metadata": {
        "id": "HrV1pk8As9XS"
      },
      "execution_count": 83,
      "outputs": []
    },
    {
      "cell_type": "code",
      "source": [
        "insurance_model.compile(loss = tf.keras.losses.mae,\n",
        "                        optimizer = tf.keras.optimizers.SGD(),\n",
        "                        metrics = ['mae'])"
      ],
      "metadata": {
        "id": "H1va7rUcs9U3"
      },
      "execution_count": 84,
      "outputs": []
    },
    {
      "cell_type": "code",
      "source": [
        "insurance_model.fit(X_train,y_train, epochs = 100)"
      ],
      "metadata": {
        "colab": {
          "base_uri": "https://localhost:8080/"
        },
        "id": "Yl8q7hKhs9Sf",
        "outputId": "fdff948c-1950-4b3e-dbc3-29472cbc3746"
      },
      "execution_count": 85,
      "outputs": [
        {
          "output_type": "stream",
          "name": "stdout",
          "text": [
            "Epoch 1/100\n",
            "34/34 [==============================] - 1s 3ms/step - loss: 13063.8467 - mae: 13063.8467\n",
            "Epoch 2/100\n",
            "34/34 [==============================] - 0s 2ms/step - loss: 13061.4326 - mae: 13061.4326\n",
            "Epoch 3/100\n",
            "34/34 [==============================] - 0s 2ms/step - loss: 13056.2412 - mae: 13056.2412\n",
            "Epoch 4/100\n",
            "34/34 [==============================] - 0s 1ms/step - loss: 13043.7324 - mae: 13043.7324\n",
            "Epoch 5/100\n",
            "34/34 [==============================] - 0s 1ms/step - loss: 13012.5605 - mae: 13012.5605\n",
            "Epoch 6/100\n",
            "34/34 [==============================] - 0s 1ms/step - loss: 12933.9072 - mae: 12933.9072\n",
            "Epoch 7/100\n",
            "34/34 [==============================] - 0s 1ms/step - loss: 12734.9658 - mae: 12734.9658\n",
            "Epoch 8/100\n",
            "34/34 [==============================] - 0s 1ms/step - loss: 12229.1455 - mae: 12229.1455\n",
            "Epoch 9/100\n",
            "34/34 [==============================] - 0s 1ms/step - loss: 11043.1201 - mae: 11043.1201\n",
            "Epoch 10/100\n",
            "34/34 [==============================] - 0s 1ms/step - loss: 9367.9707 - mae: 9367.9707\n",
            "Epoch 11/100\n",
            "34/34 [==============================] - 0s 1ms/step - loss: 8189.3291 - mae: 8189.3291\n",
            "Epoch 12/100\n",
            "34/34 [==============================] - 0s 1ms/step - loss: 7661.6855 - mae: 7661.6855\n",
            "Epoch 13/100\n",
            "34/34 [==============================] - 0s 1ms/step - loss: 7436.0137 - mae: 7436.0137\n",
            "Epoch 14/100\n",
            "34/34 [==============================] - 0s 1ms/step - loss: 7267.1187 - mae: 7267.1187\n",
            "Epoch 15/100\n",
            "34/34 [==============================] - 0s 2ms/step - loss: 7091.2783 - mae: 7091.2783\n",
            "Epoch 16/100\n",
            "34/34 [==============================] - 0s 1ms/step - loss: 6899.8945 - mae: 6899.8945\n",
            "Epoch 17/100\n",
            "34/34 [==============================] - 0s 1ms/step - loss: 6695.6289 - mae: 6695.6289\n",
            "Epoch 18/100\n",
            "34/34 [==============================] - 0s 1ms/step - loss: 6466.8447 - mae: 6466.8447\n",
            "Epoch 19/100\n",
            "34/34 [==============================] - 0s 1ms/step - loss: 6208.9639 - mae: 6208.9639\n",
            "Epoch 20/100\n",
            "34/34 [==============================] - 0s 1ms/step - loss: 5918.6133 - mae: 5918.6133\n",
            "Epoch 21/100\n",
            "34/34 [==============================] - 0s 1ms/step - loss: 5589.1602 - mae: 5589.1602\n",
            "Epoch 22/100\n",
            "34/34 [==============================] - 0s 2ms/step - loss: 5217.6807 - mae: 5217.6807\n",
            "Epoch 23/100\n",
            "34/34 [==============================] - 0s 1ms/step - loss: 4827.4077 - mae: 4827.4077\n",
            "Epoch 24/100\n",
            "34/34 [==============================] - 0s 1ms/step - loss: 4421.4487 - mae: 4421.4487\n",
            "Epoch 25/100\n",
            "34/34 [==============================] - 0s 1ms/step - loss: 4050.9648 - mae: 4050.9648\n",
            "Epoch 26/100\n",
            "34/34 [==============================] - 0s 1ms/step - loss: 3805.3994 - mae: 3805.3994\n",
            "Epoch 27/100\n",
            "34/34 [==============================] - 0s 1ms/step - loss: 3708.3286 - mae: 3708.3286\n",
            "Epoch 28/100\n",
            "34/34 [==============================] - 0s 1ms/step - loss: 3678.8254 - mae: 3678.8254\n",
            "Epoch 29/100\n",
            "34/34 [==============================] - 0s 1ms/step - loss: 3664.6396 - mae: 3664.6396\n",
            "Epoch 30/100\n",
            "34/34 [==============================] - 0s 2ms/step - loss: 3654.6294 - mae: 3654.6294\n",
            "Epoch 31/100\n",
            "34/34 [==============================] - 0s 1ms/step - loss: 3648.9514 - mae: 3648.9514\n",
            "Epoch 32/100\n",
            "34/34 [==============================] - 0s 1ms/step - loss: 3641.9480 - mae: 3641.9480\n",
            "Epoch 33/100\n",
            "34/34 [==============================] - 0s 1ms/step - loss: 3640.4336 - mae: 3640.4336\n",
            "Epoch 34/100\n",
            "34/34 [==============================] - 0s 2ms/step - loss: 3639.0957 - mae: 3639.0957\n",
            "Epoch 35/100\n",
            "34/34 [==============================] - 0s 1ms/step - loss: 3635.4097 - mae: 3635.4097\n",
            "Epoch 36/100\n",
            "34/34 [==============================] - 0s 1ms/step - loss: 3633.5137 - mae: 3633.5137\n",
            "Epoch 37/100\n",
            "34/34 [==============================] - 0s 3ms/step - loss: 3631.6309 - mae: 3631.6309\n",
            "Epoch 38/100\n",
            "34/34 [==============================] - 0s 2ms/step - loss: 3629.0051 - mae: 3629.0051\n",
            "Epoch 39/100\n",
            "34/34 [==============================] - 0s 2ms/step - loss: 3621.9556 - mae: 3621.9556\n",
            "Epoch 40/100\n",
            "34/34 [==============================] - 0s 2ms/step - loss: 3623.1321 - mae: 3623.1321\n",
            "Epoch 41/100\n",
            "34/34 [==============================] - 0s 2ms/step - loss: 3620.0117 - mae: 3620.0117\n",
            "Epoch 42/100\n",
            "34/34 [==============================] - 0s 1ms/step - loss: 3616.2188 - mae: 3616.2188\n",
            "Epoch 43/100\n",
            "34/34 [==============================] - 0s 1ms/step - loss: 3613.7883 - mae: 3613.7883\n",
            "Epoch 44/100\n",
            "34/34 [==============================] - 0s 1ms/step - loss: 3613.9155 - mae: 3613.9155\n",
            "Epoch 45/100\n",
            "34/34 [==============================] - 0s 2ms/step - loss: 3611.9346 - mae: 3611.9346\n",
            "Epoch 46/100\n",
            "34/34 [==============================] - 0s 2ms/step - loss: 3611.2385 - mae: 3611.2385\n",
            "Epoch 47/100\n",
            "34/34 [==============================] - 0s 1ms/step - loss: 3612.9580 - mae: 3612.9580\n",
            "Epoch 48/100\n",
            "34/34 [==============================] - 0s 2ms/step - loss: 3609.5254 - mae: 3609.5254\n",
            "Epoch 49/100\n",
            "34/34 [==============================] - 0s 2ms/step - loss: 3607.4055 - mae: 3607.4055\n",
            "Epoch 50/100\n",
            "34/34 [==============================] - 0s 1ms/step - loss: 3606.2571 - mae: 3606.2571\n",
            "Epoch 51/100\n",
            "34/34 [==============================] - 0s 1ms/step - loss: 3603.3787 - mae: 3603.3787\n",
            "Epoch 52/100\n",
            "34/34 [==============================] - 0s 1ms/step - loss: 3601.9282 - mae: 3601.9282\n",
            "Epoch 53/100\n",
            "34/34 [==============================] - 0s 1ms/step - loss: 3603.0718 - mae: 3603.0718\n",
            "Epoch 54/100\n",
            "34/34 [==============================] - 0s 1ms/step - loss: 3593.9861 - mae: 3593.9861\n",
            "Epoch 55/100\n",
            "34/34 [==============================] - 0s 1ms/step - loss: 3597.3374 - mae: 3597.3374\n",
            "Epoch 56/100\n",
            "34/34 [==============================] - 0s 1ms/step - loss: 3595.3110 - mae: 3595.3110\n",
            "Epoch 57/100\n",
            "34/34 [==============================] - 0s 1ms/step - loss: 3596.0227 - mae: 3596.0227\n",
            "Epoch 58/100\n",
            "34/34 [==============================] - 0s 2ms/step - loss: 3593.0444 - mae: 3593.0444\n",
            "Epoch 59/100\n",
            "34/34 [==============================] - 0s 1ms/step - loss: 3589.2087 - mae: 3589.2087\n",
            "Epoch 60/100\n",
            "34/34 [==============================] - 0s 1ms/step - loss: 3590.1538 - mae: 3590.1538\n",
            "Epoch 61/100\n",
            "34/34 [==============================] - 0s 2ms/step - loss: 3592.7188 - mae: 3592.7188\n",
            "Epoch 62/100\n",
            "34/34 [==============================] - 0s 1ms/step - loss: 3584.2866 - mae: 3584.2866\n",
            "Epoch 63/100\n",
            "34/34 [==============================] - 0s 1ms/step - loss: 3582.7720 - mae: 3582.7720\n",
            "Epoch 64/100\n",
            "34/34 [==============================] - 0s 1ms/step - loss: 3580.0222 - mae: 3580.0222\n",
            "Epoch 65/100\n",
            "34/34 [==============================] - 0s 1ms/step - loss: 3579.3335 - mae: 3579.3335\n",
            "Epoch 66/100\n",
            "34/34 [==============================] - 0s 2ms/step - loss: 3573.2410 - mae: 3573.2410\n",
            "Epoch 67/100\n",
            "34/34 [==============================] - 0s 2ms/step - loss: 3574.1375 - mae: 3574.1375\n",
            "Epoch 68/100\n",
            "34/34 [==============================] - 0s 1ms/step - loss: 3567.9482 - mae: 3567.9482\n",
            "Epoch 69/100\n",
            "34/34 [==============================] - 0s 1ms/step - loss: 3570.5161 - mae: 3570.5161\n",
            "Epoch 70/100\n",
            "34/34 [==============================] - 0s 1ms/step - loss: 3567.4766 - mae: 3567.4766\n",
            "Epoch 71/100\n",
            "34/34 [==============================] - 0s 1ms/step - loss: 3564.1289 - mae: 3564.1289\n",
            "Epoch 72/100\n",
            "34/34 [==============================] - 0s 1ms/step - loss: 3565.3298 - mae: 3565.3298\n",
            "Epoch 73/100\n",
            "34/34 [==============================] - 0s 1ms/step - loss: 3562.3276 - mae: 3562.3276\n",
            "Epoch 74/100\n",
            "34/34 [==============================] - 0s 1ms/step - loss: 3560.0515 - mae: 3560.0515\n",
            "Epoch 75/100\n",
            "34/34 [==============================] - 0s 1ms/step - loss: 3556.0151 - mae: 3556.0151\n",
            "Epoch 76/100\n",
            "34/34 [==============================] - 0s 1ms/step - loss: 3552.5669 - mae: 3552.5669\n",
            "Epoch 77/100\n",
            "34/34 [==============================] - 0s 1ms/step - loss: 3555.6406 - mae: 3555.6406\n",
            "Epoch 78/100\n",
            "34/34 [==============================] - 0s 1ms/step - loss: 3548.4924 - mae: 3548.4924\n",
            "Epoch 79/100\n",
            "34/34 [==============================] - 0s 2ms/step - loss: 3546.7666 - mae: 3546.7666\n",
            "Epoch 80/100\n",
            "34/34 [==============================] - 0s 2ms/step - loss: 3546.4832 - mae: 3546.4832\n",
            "Epoch 81/100\n",
            "34/34 [==============================] - 0s 1ms/step - loss: 3545.2722 - mae: 3545.2722\n",
            "Epoch 82/100\n",
            "34/34 [==============================] - 0s 1ms/step - loss: 3541.1243 - mae: 3541.1243\n",
            "Epoch 83/100\n",
            "34/34 [==============================] - 0s 1ms/step - loss: 3539.8650 - mae: 3539.8650\n",
            "Epoch 84/100\n",
            "34/34 [==============================] - 0s 2ms/step - loss: 3538.8076 - mae: 3538.8076\n",
            "Epoch 85/100\n",
            "34/34 [==============================] - 0s 4ms/step - loss: 3536.2329 - mae: 3536.2329\n",
            "Epoch 86/100\n",
            "34/34 [==============================] - 0s 2ms/step - loss: 3536.8853 - mae: 3536.8853\n",
            "Epoch 87/100\n",
            "34/34 [==============================] - 0s 2ms/step - loss: 3531.6621 - mae: 3531.6621\n",
            "Epoch 88/100\n",
            "34/34 [==============================] - 0s 2ms/step - loss: 3533.7444 - mae: 3533.7444\n",
            "Epoch 89/100\n",
            "34/34 [==============================] - 0s 2ms/step - loss: 3529.6409 - mae: 3529.6409\n",
            "Epoch 90/100\n",
            "34/34 [==============================] - 0s 2ms/step - loss: 3526.1636 - mae: 3526.1636\n",
            "Epoch 91/100\n",
            "34/34 [==============================] - 0s 2ms/step - loss: 3519.9341 - mae: 3519.9341\n",
            "Epoch 92/100\n",
            "34/34 [==============================] - 0s 2ms/step - loss: 3519.7156 - mae: 3519.7156\n",
            "Epoch 93/100\n",
            "34/34 [==============================] - 0s 2ms/step - loss: 3513.4429 - mae: 3513.4429\n",
            "Epoch 94/100\n",
            "34/34 [==============================] - 0s 3ms/step - loss: 3516.2747 - mae: 3516.2747\n",
            "Epoch 95/100\n",
            "34/34 [==============================] - 0s 2ms/step - loss: 3517.5959 - mae: 3517.5959\n",
            "Epoch 96/100\n",
            "34/34 [==============================] - 0s 2ms/step - loss: 3512.1257 - mae: 3512.1257\n",
            "Epoch 97/100\n",
            "34/34 [==============================] - 0s 2ms/step - loss: 3515.4094 - mae: 3515.4094\n",
            "Epoch 98/100\n",
            "34/34 [==============================] - 0s 4ms/step - loss: 3507.5288 - mae: 3507.5288\n",
            "Epoch 99/100\n",
            "34/34 [==============================] - 0s 2ms/step - loss: 3506.6101 - mae: 3506.6101\n",
            "Epoch 100/100\n",
            "34/34 [==============================] - 0s 2ms/step - loss: 3510.5701 - mae: 3510.5701\n"
          ]
        },
        {
          "output_type": "execute_result",
          "data": {
            "text/plain": [
              "<keras.callbacks.History at 0x7f8c391f8700>"
            ]
          },
          "metadata": {},
          "execution_count": 85
        }
      ]
    },
    {
      "cell_type": "code",
      "source": [
        "def metrics(y_test, y_pred):\n",
        " mae = tf.metrics.mean_absolute_error(y_test,y_pred.squeeze()).numpy()\n",
        " mse = tf.metrics.mean_squared_error(y_test,y_pred.squeeze()).numpy()\n",
        " print('mae : ',mae)\n",
        " print('mse : ',mse)\n",
        " return mae, mse"
      ],
      "metadata": {
        "id": "DjdP2zdqsIzm"
      },
      "execution_count": 86,
      "outputs": []
    },
    {
      "cell_type": "code",
      "source": [
        "mae, mse = metrics(y_test, insurance_model.predict(X_test))"
      ],
      "metadata": {
        "colab": {
          "base_uri": "https://localhost:8080/"
        },
        "id": "t1w85c9tps4a",
        "outputId": "21c61405-0b09-440c-b213-5f7a25380af3"
      },
      "execution_count": 87,
      "outputs": [
        {
          "output_type": "stream",
          "name": "stdout",
          "text": [
            "9/9 [==============================] - 0s 3ms/step\n",
            "mae :  3279.2256\n",
            "mse :  38034460.0\n"
          ]
        }
      ]
    },
    {
      "cell_type": "markdown",
      "source": [
        "### Model1"
      ],
      "metadata": {
        "id": "zDqDrUgP4Dv2"
      }
    },
    {
      "cell_type": "code",
      "source": [
        "tf.random.set_seed(42)\n",
        "insurance_model1 = tf.keras.Sequential(\n",
        "    [\n",
        "        tf.keras.layers.Dense(100),\n",
        "        tf.keras.layers.Dense(10),\n",
        "        tf.keras.layers.Dense(1, name = 'output')],\n",
        "        name = 'model1'\n",
        ")"
      ],
      "metadata": {
        "id": "OVWi5PBp4DN6"
      },
      "execution_count": 88,
      "outputs": []
    },
    {
      "cell_type": "code",
      "source": [
        "insurance_model1.compile(loss = tf.keras.losses.mae,\n",
        "                         optimizer = tf.keras.optimizers.Adam(),\n",
        "                         metrics = ['mae'])"
      ],
      "metadata": {
        "id": "nPXzwsfhps17"
      },
      "execution_count": 89,
      "outputs": []
    },
    {
      "cell_type": "code",
      "source": [
        "insurance_model1.fit(X_train,y_train, epochs = 100)"
      ],
      "metadata": {
        "colab": {
          "base_uri": "https://localhost:8080/"
        },
        "id": "F5Yy5y6E4sJ7",
        "outputId": "02e6c236-f143-41ef-9262-751ddb1d6f7f"
      },
      "execution_count": 90,
      "outputs": [
        {
          "output_type": "stream",
          "name": "stdout",
          "text": [
            "Epoch 1/100\n",
            "34/34 [==============================] - 1s 3ms/step - loss: 13062.7656 - mae: 13062.7656\n",
            "Epoch 2/100\n",
            "34/34 [==============================] - 0s 2ms/step - loss: 13056.5713 - mae: 13056.5713\n",
            "Epoch 3/100\n",
            "34/34 [==============================] - 0s 2ms/step - loss: 13041.8672 - mae: 13041.8672\n",
            "Epoch 4/100\n",
            "34/34 [==============================] - 0s 2ms/step - loss: 13011.4482 - mae: 13011.4482\n",
            "Epoch 5/100\n",
            "34/34 [==============================] - 0s 2ms/step - loss: 12957.3789 - mae: 12957.3789\n",
            "Epoch 6/100\n",
            "34/34 [==============================] - 0s 2ms/step - loss: 12872.3105 - mae: 12872.3105\n",
            "Epoch 7/100\n",
            "34/34 [==============================] - 0s 2ms/step - loss: 12748.7012 - mae: 12748.7012\n",
            "Epoch 8/100\n",
            "34/34 [==============================] - 0s 2ms/step - loss: 12579.1992 - mae: 12579.1992\n",
            "Epoch 9/100\n",
            "34/34 [==============================] - 0s 2ms/step - loss: 12358.2002 - mae: 12358.2002\n",
            "Epoch 10/100\n",
            "34/34 [==============================] - 0s 2ms/step - loss: 12077.1562 - mae: 12077.1562\n",
            "Epoch 11/100\n",
            "34/34 [==============================] - 0s 2ms/step - loss: 11731.9316 - mae: 11731.9316\n",
            "Epoch 12/100\n",
            "34/34 [==============================] - 0s 2ms/step - loss: 11321.0049 - mae: 11321.0049\n",
            "Epoch 13/100\n",
            "34/34 [==============================] - 0s 2ms/step - loss: 10872.5840 - mae: 10872.5840\n",
            "Epoch 14/100\n",
            "34/34 [==============================] - 0s 2ms/step - loss: 10402.1191 - mae: 10402.1191\n",
            "Epoch 15/100\n",
            "34/34 [==============================] - 0s 2ms/step - loss: 9924.1172 - mae: 9924.1172\n",
            "Epoch 16/100\n",
            "34/34 [==============================] - 0s 2ms/step - loss: 9463.5459 - mae: 9463.5459\n",
            "Epoch 17/100\n",
            "34/34 [==============================] - 0s 2ms/step - loss: 9042.9834 - mae: 9042.9834\n",
            "Epoch 18/100\n",
            "34/34 [==============================] - 0s 2ms/step - loss: 8675.3135 - mae: 8675.3135\n",
            "Epoch 19/100\n",
            "34/34 [==============================] - 0s 2ms/step - loss: 8364.8916 - mae: 8364.8916\n",
            "Epoch 20/100\n",
            "34/34 [==============================] - 0s 2ms/step - loss: 8094.6904 - mae: 8094.6904\n",
            "Epoch 21/100\n",
            "34/34 [==============================] - 0s 2ms/step - loss: 7879.8516 - mae: 7879.8516\n",
            "Epoch 22/100\n",
            "34/34 [==============================] - 0s 2ms/step - loss: 7710.1113 - mae: 7710.1113\n",
            "Epoch 23/100\n",
            "34/34 [==============================] - 0s 2ms/step - loss: 7581.8525 - mae: 7581.8525\n",
            "Epoch 24/100\n",
            "34/34 [==============================] - 0s 2ms/step - loss: 7492.7856 - mae: 7492.7856\n",
            "Epoch 25/100\n",
            "34/34 [==============================] - 0s 2ms/step - loss: 7424.6875 - mae: 7424.6875\n",
            "Epoch 26/100\n",
            "34/34 [==============================] - 0s 2ms/step - loss: 7367.3779 - mae: 7367.3779\n",
            "Epoch 27/100\n",
            "34/34 [==============================] - 0s 2ms/step - loss: 7318.7866 - mae: 7318.7866\n",
            "Epoch 28/100\n",
            "34/34 [==============================] - 0s 2ms/step - loss: 7272.5776 - mae: 7272.5776\n",
            "Epoch 29/100\n",
            "34/34 [==============================] - 0s 2ms/step - loss: 7230.4580 - mae: 7230.4580\n",
            "Epoch 30/100\n",
            "34/34 [==============================] - 0s 3ms/step - loss: 7185.6729 - mae: 7185.6729\n",
            "Epoch 31/100\n",
            "34/34 [==============================] - 0s 3ms/step - loss: 7144.3682 - mae: 7144.3682\n",
            "Epoch 32/100\n",
            "34/34 [==============================] - 0s 3ms/step - loss: 7102.0127 - mae: 7102.0127\n",
            "Epoch 33/100\n",
            "34/34 [==============================] - 0s 3ms/step - loss: 7060.1787 - mae: 7060.1787\n",
            "Epoch 34/100\n",
            "34/34 [==============================] - 0s 2ms/step - loss: 7016.5156 - mae: 7016.5156\n",
            "Epoch 35/100\n",
            "34/34 [==============================] - 0s 2ms/step - loss: 6974.4907 - mae: 6974.4907\n",
            "Epoch 36/100\n",
            "34/34 [==============================] - 0s 2ms/step - loss: 6930.8042 - mae: 6930.8042\n",
            "Epoch 37/100\n",
            "34/34 [==============================] - 0s 2ms/step - loss: 6885.8677 - mae: 6885.8677\n",
            "Epoch 38/100\n",
            "34/34 [==============================] - 0s 2ms/step - loss: 6838.8247 - mae: 6838.8247\n",
            "Epoch 39/100\n",
            "34/34 [==============================] - 0s 2ms/step - loss: 6793.1729 - mae: 6793.1729\n",
            "Epoch 40/100\n",
            "34/34 [==============================] - 0s 2ms/step - loss: 6744.4028 - mae: 6744.4028\n",
            "Epoch 41/100\n",
            "34/34 [==============================] - 0s 2ms/step - loss: 6695.7344 - mae: 6695.7344\n",
            "Epoch 42/100\n",
            "34/34 [==============================] - 0s 2ms/step - loss: 6645.1543 - mae: 6645.1543\n",
            "Epoch 43/100\n",
            "34/34 [==============================] - 0s 2ms/step - loss: 6593.1562 - mae: 6593.1562\n",
            "Epoch 44/100\n",
            "34/34 [==============================] - 0s 2ms/step - loss: 6540.1870 - mae: 6540.1870\n",
            "Epoch 45/100\n",
            "34/34 [==============================] - 0s 2ms/step - loss: 6483.7090 - mae: 6483.7090\n",
            "Epoch 46/100\n",
            "34/34 [==============================] - 0s 2ms/step - loss: 6426.2622 - mae: 6426.2622\n",
            "Epoch 47/100\n",
            "34/34 [==============================] - 0s 2ms/step - loss: 6367.3325 - mae: 6367.3325\n",
            "Epoch 48/100\n",
            "34/34 [==============================] - 0s 2ms/step - loss: 6304.3467 - mae: 6304.3467\n",
            "Epoch 49/100\n",
            "34/34 [==============================] - 0s 2ms/step - loss: 6241.5117 - mae: 6241.5117\n",
            "Epoch 50/100\n",
            "34/34 [==============================] - 0s 2ms/step - loss: 6174.9097 - mae: 6174.9097\n",
            "Epoch 51/100\n",
            "34/34 [==============================] - 0s 2ms/step - loss: 6105.5054 - mae: 6105.5054\n",
            "Epoch 52/100\n",
            "34/34 [==============================] - 0s 2ms/step - loss: 6033.9194 - mae: 6033.9194\n",
            "Epoch 53/100\n",
            "34/34 [==============================] - 0s 2ms/step - loss: 5960.9873 - mae: 5960.9873\n",
            "Epoch 54/100\n",
            "34/34 [==============================] - 0s 2ms/step - loss: 5882.1318 - mae: 5882.1318\n",
            "Epoch 55/100\n",
            "34/34 [==============================] - 0s 2ms/step - loss: 5802.9204 - mae: 5802.9204\n",
            "Epoch 56/100\n",
            "34/34 [==============================] - 0s 2ms/step - loss: 5718.4712 - mae: 5718.4712\n",
            "Epoch 57/100\n",
            "34/34 [==============================] - 0s 2ms/step - loss: 5630.8750 - mae: 5630.8750\n",
            "Epoch 58/100\n",
            "34/34 [==============================] - 0s 2ms/step - loss: 5540.1670 - mae: 5540.1670\n",
            "Epoch 59/100\n",
            "34/34 [==============================] - 0s 2ms/step - loss: 5445.2090 - mae: 5445.2090\n",
            "Epoch 60/100\n",
            "34/34 [==============================] - 0s 2ms/step - loss: 5349.2271 - mae: 5349.2271\n",
            "Epoch 61/100\n",
            "34/34 [==============================] - 0s 2ms/step - loss: 5249.5986 - mae: 5249.5986\n",
            "Epoch 62/100\n",
            "34/34 [==============================] - 0s 2ms/step - loss: 5144.3774 - mae: 5144.3774\n",
            "Epoch 63/100\n",
            "34/34 [==============================] - 0s 2ms/step - loss: 5037.7559 - mae: 5037.7559\n",
            "Epoch 64/100\n",
            "34/34 [==============================] - 0s 2ms/step - loss: 4926.9199 - mae: 4926.9199\n",
            "Epoch 65/100\n",
            "34/34 [==============================] - 0s 2ms/step - loss: 4811.6577 - mae: 4811.6577\n",
            "Epoch 66/100\n",
            "34/34 [==============================] - 0s 2ms/step - loss: 4696.0430 - mae: 4696.0430\n",
            "Epoch 67/100\n",
            "34/34 [==============================] - 0s 2ms/step - loss: 4581.3892 - mae: 4581.3892\n",
            "Epoch 68/100\n",
            "34/34 [==============================] - 0s 2ms/step - loss: 4469.1680 - mae: 4469.1680\n",
            "Epoch 69/100\n",
            "34/34 [==============================] - 0s 2ms/step - loss: 4356.9814 - mae: 4356.9814\n",
            "Epoch 70/100\n",
            "34/34 [==============================] - 0s 2ms/step - loss: 4242.9126 - mae: 4242.9126\n",
            "Epoch 71/100\n",
            "34/34 [==============================] - 0s 2ms/step - loss: 4131.1836 - mae: 4131.1836\n",
            "Epoch 72/100\n",
            "34/34 [==============================] - 0s 2ms/step - loss: 4028.5623 - mae: 4028.5623\n",
            "Epoch 73/100\n",
            "34/34 [==============================] - 0s 2ms/step - loss: 3940.2419 - mae: 3940.2419\n",
            "Epoch 74/100\n",
            "34/34 [==============================] - 0s 4ms/step - loss: 3870.1858 - mae: 3870.1858\n",
            "Epoch 75/100\n",
            "34/34 [==============================] - 0s 4ms/step - loss: 3811.6655 - mae: 3811.6655\n",
            "Epoch 76/100\n",
            "34/34 [==============================] - 0s 3ms/step - loss: 3764.8774 - mae: 3764.8774\n",
            "Epoch 77/100\n",
            "34/34 [==============================] - 0s 3ms/step - loss: 3727.9966 - mae: 3727.9966\n",
            "Epoch 78/100\n",
            "34/34 [==============================] - 0s 3ms/step - loss: 3700.6621 - mae: 3700.6621\n",
            "Epoch 79/100\n",
            "34/34 [==============================] - 0s 3ms/step - loss: 3679.8835 - mae: 3679.8835\n",
            "Epoch 80/100\n",
            "34/34 [==============================] - 0s 3ms/step - loss: 3666.2375 - mae: 3666.2375\n",
            "Epoch 81/100\n",
            "34/34 [==============================] - 0s 4ms/step - loss: 3657.9131 - mae: 3657.9131\n",
            "Epoch 82/100\n",
            "34/34 [==============================] - 0s 3ms/step - loss: 3651.7122 - mae: 3651.7122\n",
            "Epoch 83/100\n",
            "34/34 [==============================] - 0s 3ms/step - loss: 3647.8936 - mae: 3647.8936\n",
            "Epoch 84/100\n",
            "34/34 [==============================] - 0s 3ms/step - loss: 3647.5095 - mae: 3647.5095\n",
            "Epoch 85/100\n",
            "34/34 [==============================] - 0s 3ms/step - loss: 3643.4839 - mae: 3643.4839\n",
            "Epoch 86/100\n",
            "34/34 [==============================] - 0s 3ms/step - loss: 3641.5247 - mae: 3641.5247\n",
            "Epoch 87/100\n",
            "34/34 [==============================] - 0s 3ms/step - loss: 3641.8259 - mae: 3641.8259\n",
            "Epoch 88/100\n",
            "34/34 [==============================] - 0s 4ms/step - loss: 3639.9827 - mae: 3639.9827\n",
            "Epoch 89/100\n",
            "34/34 [==============================] - 0s 3ms/step - loss: 3637.7202 - mae: 3637.7202\n",
            "Epoch 90/100\n",
            "34/34 [==============================] - 0s 3ms/step - loss: 3636.9177 - mae: 3636.9177\n",
            "Epoch 91/100\n",
            "34/34 [==============================] - 0s 3ms/step - loss: 3635.1484 - mae: 3635.1484\n",
            "Epoch 92/100\n",
            "34/34 [==============================] - 0s 3ms/step - loss: 3637.2764 - mae: 3637.2764\n",
            "Epoch 93/100\n",
            "34/34 [==============================] - 0s 3ms/step - loss: 3635.0371 - mae: 3635.0371\n",
            "Epoch 94/100\n",
            "34/34 [==============================] - 0s 4ms/step - loss: 3632.3887 - mae: 3632.3887\n",
            "Epoch 95/100\n",
            "34/34 [==============================] - 0s 3ms/step - loss: 3632.0144 - mae: 3632.0144\n",
            "Epoch 96/100\n",
            "34/34 [==============================] - 0s 4ms/step - loss: 3630.8867 - mae: 3630.8867\n",
            "Epoch 97/100\n",
            "34/34 [==============================] - 0s 4ms/step - loss: 3631.1370 - mae: 3631.1370\n",
            "Epoch 98/100\n",
            "34/34 [==============================] - 0s 4ms/step - loss: 3630.6025 - mae: 3630.6025\n",
            "Epoch 99/100\n",
            "34/34 [==============================] - 0s 4ms/step - loss: 3629.5967 - mae: 3629.5967\n",
            "Epoch 100/100\n",
            "34/34 [==============================] - 0s 3ms/step - loss: 3629.1721 - mae: 3629.1721\n"
          ]
        },
        {
          "output_type": "execute_result",
          "data": {
            "text/plain": [
              "<keras.callbacks.History at 0x7f8c39316ee0>"
            ]
          },
          "metadata": {},
          "execution_count": 90
        }
      ]
    },
    {
      "cell_type": "code",
      "source": [
        "y_pred1 = insurance_model1.predict(X_test)"
      ],
      "metadata": {
        "colab": {
          "base_uri": "https://localhost:8080/"
        },
        "id": "kuG68qQk43jU",
        "outputId": "64ab18fd-8021-4421-fd98-2c249428bd00"
      },
      "execution_count": 91,
      "outputs": [
        {
          "output_type": "stream",
          "name": "stdout",
          "text": [
            "9/9 [==============================] - 0s 2ms/step\n"
          ]
        }
      ]
    },
    {
      "cell_type": "code",
      "source": [
        "mae1,mse1 = metrics(y_test, y_pred1)"
      ],
      "metadata": {
        "colab": {
          "base_uri": "https://localhost:8080/"
        },
        "id": "De-JlRTH5I5r",
        "outputId": "9add9f46-5eda-4b31-b47d-66ba14ebe830"
      },
      "execution_count": 92,
      "outputs": [
        {
          "output_type": "stream",
          "name": "stdout",
          "text": [
            "mae :  3828.4248\n",
            "mse :  56316348.0\n"
          ]
        }
      ]
    },
    {
      "cell_type": "markdown",
      "source": [
        "### Model 2"
      ],
      "metadata": {
        "id": "F08LoBrz9OHt"
      }
    },
    {
      "cell_type": "code",
      "source": [
        "tf.random.set_seed(42)\n",
        "insurance_model2 = tf.keras.Sequential(\n",
        "    [tf.keras.layers.Dense(100),\n",
        "     tf.keras.layers.Dense(10),\n",
        "     tf.keras.layers.Dense(1)],\n",
        "     name = 'model2'\n",
        ")"
      ],
      "metadata": {
        "id": "_7muEQ4M5cOo"
      },
      "execution_count": 93,
      "outputs": []
    },
    {
      "cell_type": "code",
      "source": [
        "insurance_model2.compile(loss = tf.keras.losses.mae,\n",
        "                         optimizer = tf.keras.optimizers.Adam(),\n",
        "                         metrics = ['mae'])"
      ],
      "metadata": {
        "id": "8lm-wrPS9nfb"
      },
      "execution_count": 94,
      "outputs": []
    },
    {
      "cell_type": "code",
      "source": [
        "history = insurance_model2.fit(X_train,y_train, epochs = 200, verbose = 0)"
      ],
      "metadata": {
        "id": "x7wPzCiw945W"
      },
      "execution_count": 95,
      "outputs": []
    },
    {
      "cell_type": "code",
      "source": [
        "insurance_model2.evaluate(X_test,y_test)"
      ],
      "metadata": {
        "colab": {
          "base_uri": "https://localhost:8080/"
        },
        "id": "QfcM66r_-An-",
        "outputId": "319f63e7-57a8-4289-d2a5-0c4614b609ba"
      },
      "execution_count": 96,
      "outputs": [
        {
          "output_type": "stream",
          "name": "stdout",
          "text": [
            "9/9 [==============================] - 0s 2ms/step - loss: 3497.0229 - mae: 3497.0229\n"
          ]
        },
        {
          "output_type": "execute_result",
          "data": {
            "text/plain": [
              "[3497.02294921875, 3497.02294921875]"
            ]
          },
          "metadata": {},
          "execution_count": 96
        }
      ]
    },
    {
      "cell_type": "code",
      "source": [
        "plt.figure(figsize=[10,7])\n",
        "pd.DataFrame(history.history).plot()\n",
        "plt.ylabel('loss')\n",
        "plt.xlabel('epochs')\n",
        "plt.legend();"
      ],
      "metadata": {
        "colab": {
          "base_uri": "https://localhost:8080/",
          "height": 296
        },
        "id": "QKaq63YV-WIT",
        "outputId": "712337ec-03db-4cd3-a353-02b5ed37950f"
      },
      "execution_count": 97,
      "outputs": [
        {
          "output_type": "display_data",
          "data": {
            "text/plain": [
              "<Figure size 720x504 with 0 Axes>"
            ]
          },
          "metadata": {}
        },
        {
          "output_type": "display_data",
          "data": {
            "text/plain": [
              "<Figure size 432x288 with 1 Axes>"
            ],
            "image/png": "[encoded data removed]"
          },
          "metadata": {
            "needs_background": "light"
          }
        }
      ]
    }
  ]
}