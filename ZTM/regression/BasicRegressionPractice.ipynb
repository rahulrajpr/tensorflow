{
  "nbformat": 4,
  "nbformat_minor": 0,
  "metadata": {
    "colab": {
      "provenance": [],
      "authorship_tag": "ABX9TyMPOWwBu06/yvrJIPZCkBPP",
      "include_colab_link": true
    },
    "kernelspec": {
      "name": "python3",
      "display_name": "Python 3"
    },
    "language_info": {
      "name": "python"
    }
  },
  "cells": [
    {
      "cell_type": "markdown",
      "metadata": {
        "id": "view-in-github",
        "colab_type": "text"
      },
      "source": [
        "<a href=\"https://colab.research.google.com/github/rahulrajpr/TensorFlowDeveloperCertifcateTraining/blob/NeuralNetworkRegression/BasicRegressionPractice.ipynb\" target=\"_parent\"><img src=\"https://colab.research.google.com/assets/colab-badge.svg\" alt=\"Open In Colab\"/></a>"
      ]
    },
    {
      "cell_type": "code",
      "execution_count": 421,
      "metadata": {
        "id": "ndW0_ePZuB0x"
      },
      "outputs": [],
      "source": [
        "import tensorflow as tf\n",
        "import numpy as np\n",
        "import matplotlib.pyplot as plt\n",
        "import warnings \n",
        "warnings.filterwarnings('ignore')"
      ]
    },
    {
      "cell_type": "code",
      "source": [
        "# lets create some dummy data for learnig\n",
        "tf.random.set_seed(42)\n",
        "X = tf.range(start = -100,limit = 50)\n",
        "X[:5]"
      ],
      "metadata": {
        "colab": {
          "base_uri": "https://localhost:8080/"
        },
        "id": "Lwle8jN5uW9X",
        "outputId": "7dc80fc8-0f83-4630-80df-91a8029d354e"
      },
      "execution_count": 422,
      "outputs": [
        {
          "output_type": "execute_result",
          "data": {
            "text/plain": [
              "<tf.Tensor: shape=(5,), dtype=int32, numpy=array([-100,  -99,  -98,  -97,  -96], dtype=int32)>"
            ]
          },
          "metadata": {},
          "execution_count": 422
        }
      ]
    },
    {
      "cell_type": "code",
      "source": [
        "y = X + 3\n",
        "y[:5]"
      ],
      "metadata": {
        "colab": {
          "base_uri": "https://localhost:8080/"
        },
        "id": "XViVOfYruoIx",
        "outputId": "5c54a171-8d10-40e2-842d-40acf42c7322"
      },
      "execution_count": 423,
      "outputs": [
        {
          "output_type": "execute_result",
          "data": {
            "text/plain": [
              "<tf.Tensor: shape=(5,), dtype=int32, numpy=array([-97, -96, -95, -94, -93], dtype=int32)>"
            ]
          },
          "metadata": {},
          "execution_count": 423
        }
      ]
    },
    {
      "cell_type": "code",
      "source": [
        "X = tf.expand_dims(X,axis = -1)\n",
        "y = tf.expand_dims(y, axis = -1)"
      ],
      "metadata": {
        "id": "7Ekp0nquqM9x"
      },
      "execution_count": 424,
      "outputs": []
    },
    {
      "cell_type": "markdown",
      "source": [
        "### Lets visualize the data"
      ],
      "metadata": {
        "id": "KcaU_iJMuvnZ"
      }
    },
    {
      "cell_type": "code",
      "source": [
        "plt.figure(figsize = (10,7))\n",
        "plt.scatter(X,y, color  = 'orange')\n",
        "plt.show()"
      ],
      "metadata": {
        "colab": {
          "base_uri": "https://localhost:8080/",
          "height": 428
        },
        "id": "Vymf5aj5urUT",
        "outputId": "881a2f24-617d-4cb6-8cd5-8398469b1f44"
      },
      "execution_count": 425,
      "outputs": [
        {
          "output_type": "display_data",
          "data": {
            "text/plain": [
              "<Figure size 720x504 with 1 Axes>"
            ],
            "image/png": "[encoded data removed]"
          },
          "metadata": {
            "needs_background": "light"
          }
        }
      ]
    },
    {
      "cell_type": "markdown",
      "source": [
        "### Lets split the data into train & test : 70 : 30 Ratio"
      ],
      "metadata": {
        "id": "KxuwchZxvLIa"
      }
    },
    {
      "cell_type": "code",
      "source": [
        "X_train = X[:int(len(X)*0.7)]\n",
        "y_train = y[:int(len(X)*0.7)]\n",
        "X_test = X[int(len(X)*0.7):]\n",
        "y_test = y[int(len(X)*0.7):]"
      ],
      "metadata": {
        "id": "Dj0ydaABu9C7"
      },
      "execution_count": 426,
      "outputs": []
    },
    {
      "cell_type": "code",
      "source": [
        "X_train.shape,y_train.shape, X_test.shape, y_test.shape"
      ],
      "metadata": {
        "colab": {
          "base_uri": "https://localhost:8080/"
        },
        "id": "1EwmPxPOvJ4Q",
        "outputId": "38959b23-94e1-4fdd-9365-16755f0e9adc"
      },
      "execution_count": 427,
      "outputs": [
        {
          "output_type": "execute_result",
          "data": {
            "text/plain": [
              "(TensorShape([105, 1]),\n",
              " TensorShape([105, 1]),\n",
              " TensorShape([45, 1]),\n",
              " TensorShape([45, 1]))"
            ]
          },
          "metadata": {},
          "execution_count": 427
        }
      ]
    },
    {
      "cell_type": "markdown",
      "source": [
        "### Lets Visualize the train-test data"
      ],
      "metadata": {
        "id": "n7oeIUBQvzZv"
      }
    },
    {
      "cell_type": "code",
      "source": [
        "plt.figure(figsize = [10,7])\n",
        "plt.scatter(X_train,y_train, c = 'b', label = 'Training Data')\n",
        "plt.scatter(X_test,y_test, c ='g', label = 'Testing Data')\n",
        "plt.legend()\n",
        "plt.show()"
      ],
      "metadata": {
        "colab": {
          "base_uri": "https://localhost:8080/",
          "height": 428
        },
        "id": "leUk4bQdvJ2G",
        "outputId": "9fceba67-4c09-4e1d-9742-7eebda95ee94"
      },
      "execution_count": 428,
      "outputs": [
        {
          "output_type": "display_data",
          "data": {
            "text/plain": [
              "<Figure size 720x504 with 1 Axes>"
            ],
            "image/png": "[encoded data removed]"
          },
          "metadata": {
            "needs_background": "light"
          }
        }
      ]
    },
    {
      "cell_type": "code",
      "source": [
        "from tensorflow.keras.utils import plot_model"
      ],
      "metadata": {
        "id": "j6QiycoYjdLK"
      },
      "execution_count": 429,
      "outputs": []
    },
    {
      "cell_type": "code",
      "source": [
        "def model_viz(model):\n",
        "  print(model.summary(),'\\n')\n",
        "  return plot_model(model=model, show_shapes=True)"
      ],
      "metadata": {
        "id": "L-5FQ5v3olL5"
      },
      "execution_count": 452,
      "outputs": []
    },
    {
      "cell_type": "code",
      "source": [
        "# create the model\n",
        "model = tf.keras.Sequential([\n",
        "    tf.keras.layers.Dense(units = 10,input_shape = [1], name = 'input_layer'),\n",
        "    tf.keras.layers.Dense(units = 1, name = 'output_layer')\n",
        "], name = 'model_1')"
      ],
      "metadata": {
        "id": "xFWl666ZZWJh"
      },
      "execution_count": 431,
      "outputs": []
    },
    {
      "cell_type": "code",
      "source": [
        "# compile the model\n",
        "model.compile(loss = tf.keras.losses.mae,\n",
        "              optimizer = tf.keras.optimizers.SGD(),\n",
        "              metrics = ['mae'])"
      ],
      "metadata": {
        "id": "iYsckaIgZmzt"
      },
      "execution_count": 432,
      "outputs": []
    },
    {
      "cell_type": "code",
      "source": [
        "model_viz(model)"
      ],
      "metadata": {
        "colab": {
          "base_uri": "https://localhost:8080/",
          "height": 572
        },
        "id": "0fAB6kSmo9x6",
        "outputId": "d0f1874d-e2fa-4bc7-b82c-e13717675c99"
      },
      "execution_count": 453,
      "outputs": [
        {
          "output_type": "stream",
          "name": "stdout",
          "text": [
            "Model: \"model_1\"\n",
            "_________________________________________________________________\n",
            " Layer (type)                Output Shape              Param #   \n",
            "=================================================================\n",
            " input_layer (Dense)         (None, 10)                20        \n",
            "                                                                 \n",
            " output_layer (Dense)        (None, 1)                 11        \n",
            "                                                                 \n",
            "=================================================================\n",
            "Total params: 31\n",
            "Trainable params: 31\n",
            "Non-trainable params: 0\n",
            "_________________________________________________________________\n",
            "None \n",
            "\n"
          ]
        },
        {
          "output_type": "execute_result",
          "data": {
            "image/png": "[encoded data removed]",
            "text/plain": [
              "<IPython.core.display.Image object>"
            ]
          },
          "metadata": {},
          "execution_count": 453
        }
      ]
    },
    {
      "cell_type": "code",
      "source": [
        "# fit the model\n",
        "\n",
        "model.fit(x = X_train, y = y_train, epochs = 100, verbose = 1)"
      ],
      "metadata": {
        "colab": {
          "base_uri": "https://localhost:8080/"
        },
        "id": "rnkUlUC6aCAD",
        "outputId": "8a931b80-de7b-4d89-ab38-3240e5e8c8c9"
      },
      "execution_count": 434,
      "outputs": [
        {
          "output_type": "stream",
          "name": "stdout",
          "text": [
            "Epoch 1/100\n",
            "4/4 [==============================] - 0s 3ms/step - loss: 36.3271 - mae: 36.3271\n",
            "Epoch 2/100\n",
            "4/4 [==============================] - 0s 4ms/step - loss: 24.1128 - mae: 24.1128\n",
            "Epoch 3/100\n",
            "4/4 [==============================] - 0s 4ms/step - loss: 23.1607 - mae: 23.1607\n",
            "Epoch 4/100\n",
            "4/4 [==============================] - 0s 3ms/step - loss: 19.2644 - mae: 19.2644\n",
            "Epoch 5/100\n",
            "4/4 [==============================] - 0s 3ms/step - loss: 20.7994 - mae: 20.7994\n",
            "Epoch 6/100\n",
            "4/4 [==============================] - 0s 3ms/step - loss: 22.2606 - mae: 22.2606\n",
            "Epoch 7/100\n",
            "4/4 [==============================] - 0s 3ms/step - loss: 24.5645 - mae: 24.5645\n",
            "Epoch 8/100\n",
            "4/4 [==============================] - 0s 3ms/step - loss: 21.9573 - mae: 21.9573\n",
            "Epoch 9/100\n",
            "4/4 [==============================] - 0s 4ms/step - loss: 19.1013 - mae: 19.1013\n",
            "Epoch 10/100\n",
            "4/4 [==============================] - 0s 3ms/step - loss: 23.8486 - mae: 23.8486\n",
            "Epoch 11/100\n",
            "4/4 [==============================] - 0s 3ms/step - loss: 20.3281 - mae: 20.3281\n",
            "Epoch 12/100\n",
            "4/4 [==============================] - 0s 4ms/step - loss: 24.0614 - mae: 24.0614\n",
            "Epoch 13/100\n",
            "4/4 [==============================] - 0s 4ms/step - loss: 15.6414 - mae: 15.6414\n",
            "Epoch 14/100\n",
            "4/4 [==============================] - 0s 4ms/step - loss: 22.2029 - mae: 22.2029\n",
            "Epoch 15/100\n",
            "4/4 [==============================] - 0s 4ms/step - loss: 20.2818 - mae: 20.2818\n",
            "Epoch 16/100\n",
            "4/4 [==============================] - 0s 3ms/step - loss: 20.2466 - mae: 20.2466\n",
            "Epoch 17/100\n",
            "4/4 [==============================] - 0s 3ms/step - loss: 20.9250 - mae: 20.9250\n",
            "Epoch 18/100\n",
            "4/4 [==============================] - 0s 3ms/step - loss: 22.8961 - mae: 22.8961\n",
            "Epoch 19/100\n",
            "4/4 [==============================] - 0s 4ms/step - loss: 16.5723 - mae: 16.5723\n",
            "Epoch 20/100\n",
            "4/4 [==============================] - 0s 3ms/step - loss: 20.6942 - mae: 20.6942\n",
            "Epoch 21/100\n",
            "4/4 [==============================] - 0s 3ms/step - loss: 24.1736 - mae: 24.1736\n",
            "Epoch 22/100\n",
            "4/4 [==============================] - 0s 3ms/step - loss: 18.3410 - mae: 18.3410\n",
            "Epoch 23/100\n",
            "4/4 [==============================] - 0s 4ms/step - loss: 23.8913 - mae: 23.8913\n",
            "Epoch 24/100\n",
            "4/4 [==============================] - 0s 4ms/step - loss: 21.3847 - mae: 21.3847\n",
            "Epoch 25/100\n",
            "4/4 [==============================] - 0s 4ms/step - loss: 21.9232 - mae: 21.9232\n",
            "Epoch 26/100\n",
            "4/4 [==============================] - 0s 4ms/step - loss: 22.9053 - mae: 22.9053\n",
            "Epoch 27/100\n",
            "4/4 [==============================] - 0s 4ms/step - loss: 20.6140 - mae: 20.6140\n",
            "Epoch 28/100\n",
            "4/4 [==============================] - 0s 4ms/step - loss: 20.2686 - mae: 20.2686\n",
            "Epoch 29/100\n",
            "4/4 [==============================] - 0s 3ms/step - loss: 20.2823 - mae: 20.2823\n",
            "Epoch 30/100\n",
            "4/4 [==============================] - 0s 4ms/step - loss: 22.9630 - mae: 22.9630\n",
            "Epoch 31/100\n",
            "4/4 [==============================] - 0s 3ms/step - loss: 21.4009 - mae: 21.4009\n",
            "Epoch 32/100\n",
            "4/4 [==============================] - 0s 5ms/step - loss: 23.4654 - mae: 23.4654\n",
            "Epoch 33/100\n",
            "4/4 [==============================] - 0s 4ms/step - loss: 17.2000 - mae: 17.2000\n",
            "Epoch 34/100\n",
            "4/4 [==============================] - 0s 4ms/step - loss: 21.7435 - mae: 21.7435\n",
            "Epoch 35/100\n",
            "4/4 [==============================] - 0s 4ms/step - loss: 20.4265 - mae: 20.4265\n",
            "Epoch 36/100\n",
            "4/4 [==============================] - 0s 4ms/step - loss: 17.4476 - mae: 17.4476\n",
            "Epoch 37/100\n",
            "4/4 [==============================] - 0s 3ms/step - loss: 24.7918 - mae: 24.7918\n",
            "Epoch 38/100\n",
            "4/4 [==============================] - 0s 4ms/step - loss: 17.7985 - mae: 17.7985\n",
            "Epoch 39/100\n",
            "4/4 [==============================] - 0s 3ms/step - loss: 23.0539 - mae: 23.0539\n",
            "Epoch 40/100\n",
            "4/4 [==============================] - 0s 4ms/step - loss: 19.9231 - mae: 19.9231\n",
            "Epoch 41/100\n",
            "4/4 [==============================] - 0s 4ms/step - loss: 19.7859 - mae: 19.7859\n",
            "Epoch 42/100\n",
            "4/4 [==============================] - 0s 4ms/step - loss: 19.3827 - mae: 19.3827\n",
            "Epoch 43/100\n",
            "4/4 [==============================] - 0s 3ms/step - loss: 22.1051 - mae: 22.1051\n",
            "Epoch 44/100\n",
            "4/4 [==============================] - 0s 7ms/step - loss: 19.0745 - mae: 19.0745\n",
            "Epoch 45/100\n",
            "4/4 [==============================] - 0s 4ms/step - loss: 22.7068 - mae: 22.7068\n",
            "Epoch 46/100\n",
            "4/4 [==============================] - 0s 4ms/step - loss: 19.6541 - mae: 19.6541\n",
            "Epoch 47/100\n",
            "4/4 [==============================] - 0s 4ms/step - loss: 25.5913 - mae: 25.5913\n",
            "Epoch 48/100\n",
            "4/4 [==============================] - 0s 3ms/step - loss: 17.9715 - mae: 17.9715\n",
            "Epoch 49/100\n",
            "4/4 [==============================] - 0s 3ms/step - loss: 20.6603 - mae: 20.6603\n",
            "Epoch 50/100\n",
            "4/4 [==============================] - 0s 3ms/step - loss: 20.3676 - mae: 20.3676\n",
            "Epoch 51/100\n",
            "4/4 [==============================] - 0s 3ms/step - loss: 22.6636 - mae: 22.6636\n",
            "Epoch 52/100\n",
            "4/4 [==============================] - 0s 4ms/step - loss: 20.3692 - mae: 20.3692\n",
            "Epoch 53/100\n",
            "4/4 [==============================] - 0s 3ms/step - loss: 21.3109 - mae: 21.3109\n",
            "Epoch 54/100\n",
            "4/4 [==============================] - 0s 3ms/step - loss: 18.9722 - mae: 18.9722\n",
            "Epoch 55/100\n",
            "4/4 [==============================] - 0s 3ms/step - loss: 23.8997 - mae: 23.8997\n",
            "Epoch 56/100\n",
            "4/4 [==============================] - 0s 7ms/step - loss: 21.6735 - mae: 21.6735\n",
            "Epoch 57/100\n",
            "4/4 [==============================] - 0s 4ms/step - loss: 13.5798 - mae: 13.5798\n",
            "Epoch 58/100\n",
            "4/4 [==============================] - 0s 3ms/step - loss: 25.0565 - mae: 25.0565\n",
            "Epoch 59/100\n",
            "4/4 [==============================] - 0s 3ms/step - loss: 21.7513 - mae: 21.7513\n",
            "Epoch 60/100\n",
            "4/4 [==============================] - 0s 4ms/step - loss: 20.4083 - mae: 20.4083\n",
            "Epoch 61/100\n",
            "4/4 [==============================] - 0s 3ms/step - loss: 22.9063 - mae: 22.9063\n",
            "Epoch 62/100\n",
            "4/4 [==============================] - 0s 4ms/step - loss: 20.6634 - mae: 20.6634\n",
            "Epoch 63/100\n",
            "4/4 [==============================] - 0s 3ms/step - loss: 23.5668 - mae: 23.5668\n",
            "Epoch 64/100\n",
            "4/4 [==============================] - 0s 3ms/step - loss: 19.5438 - mae: 19.5438\n",
            "Epoch 65/100\n",
            "4/4 [==============================] - 0s 4ms/step - loss: 22.5363 - mae: 22.5363\n",
            "Epoch 66/100\n",
            "4/4 [==============================] - 0s 4ms/step - loss: 24.5274 - mae: 24.5274\n",
            "Epoch 67/100\n",
            "4/4 [==============================] - 0s 5ms/step - loss: 21.4974 - mae: 21.4974\n",
            "Epoch 68/100\n",
            "4/4 [==============================] - 0s 4ms/step - loss: 20.9028 - mae: 20.9028\n",
            "Epoch 69/100\n",
            "4/4 [==============================] - 0s 3ms/step - loss: 17.3987 - mae: 17.3987\n",
            "Epoch 70/100\n",
            "4/4 [==============================] - 0s 4ms/step - loss: 35.4737 - mae: 35.4737\n",
            "Epoch 71/100\n",
            "4/4 [==============================] - 0s 3ms/step - loss: 19.7695 - mae: 19.7695\n",
            "Epoch 72/100\n",
            "4/4 [==============================] - 0s 4ms/step - loss: 22.3297 - mae: 22.3297\n",
            "Epoch 73/100\n",
            "4/4 [==============================] - 0s 3ms/step - loss: 19.8105 - mae: 19.8105\n",
            "Epoch 74/100\n",
            "4/4 [==============================] - 0s 3ms/step - loss: 23.8104 - mae: 23.8104\n",
            "Epoch 75/100\n",
            "4/4 [==============================] - 0s 3ms/step - loss: 20.2770 - mae: 20.2770\n",
            "Epoch 76/100\n",
            "4/4 [==============================] - 0s 3ms/step - loss: 20.1319 - mae: 20.1319\n",
            "Epoch 77/100\n",
            "4/4 [==============================] - 0s 3ms/step - loss: 19.1854 - mae: 19.1854\n",
            "Epoch 78/100\n",
            "4/4 [==============================] - 0s 4ms/step - loss: 24.7551 - mae: 24.7551\n",
            "Epoch 79/100\n",
            "4/4 [==============================] - 0s 4ms/step - loss: 18.2834 - mae: 18.2834\n",
            "Epoch 80/100\n",
            "4/4 [==============================] - 0s 3ms/step - loss: 19.6998 - mae: 19.6998\n",
            "Epoch 81/100\n",
            "4/4 [==============================] - 0s 4ms/step - loss: 26.3709 - mae: 26.3709\n",
            "Epoch 82/100\n",
            "4/4 [==============================] - 0s 3ms/step - loss: 20.8604 - mae: 20.8604\n",
            "Epoch 83/100\n",
            "4/4 [==============================] - 0s 4ms/step - loss: 25.5689 - mae: 25.5689\n",
            "Epoch 84/100\n",
            "4/4 [==============================] - 0s 4ms/step - loss: 19.1102 - mae: 19.1102\n",
            "Epoch 85/100\n",
            "4/4 [==============================] - 0s 4ms/step - loss: 19.8791 - mae: 19.8791\n",
            "Epoch 86/100\n",
            "4/4 [==============================] - 0s 4ms/step - loss: 20.2239 - mae: 20.2239\n",
            "Epoch 87/100\n",
            "4/4 [==============================] - 0s 4ms/step - loss: 21.8862 - mae: 21.8862\n",
            "Epoch 88/100\n",
            "4/4 [==============================] - 0s 3ms/step - loss: 20.3929 - mae: 20.3929\n",
            "Epoch 89/100\n",
            "4/4 [==============================] - 0s 4ms/step - loss: 24.4747 - mae: 24.4747\n",
            "Epoch 90/100\n",
            "4/4 [==============================] - 0s 3ms/step - loss: 19.7636 - mae: 19.7636\n",
            "Epoch 91/100\n",
            "4/4 [==============================] - 0s 4ms/step - loss: 22.2310 - mae: 22.2310\n",
            "Epoch 92/100\n",
            "4/4 [==============================] - 0s 5ms/step - loss: 20.5933 - mae: 20.5933\n",
            "Epoch 93/100\n",
            "4/4 [==============================] - 0s 6ms/step - loss: 27.3648 - mae: 27.3648\n",
            "Epoch 94/100\n",
            "4/4 [==============================] - 0s 6ms/step - loss: 20.7782 - mae: 20.7782\n",
            "Epoch 95/100\n",
            "4/4 [==============================] - 0s 4ms/step - loss: 20.5057 - mae: 20.5057\n",
            "Epoch 96/100\n",
            "4/4 [==============================] - 0s 3ms/step - loss: 16.8281 - mae: 16.8281\n",
            "Epoch 97/100\n",
            "4/4 [==============================] - 0s 3ms/step - loss: 19.9459 - mae: 19.9459\n",
            "Epoch 98/100\n",
            "4/4 [==============================] - 0s 3ms/step - loss: 22.9366 - mae: 22.9366\n",
            "Epoch 99/100\n",
            "4/4 [==============================] - 0s 4ms/step - loss: 21.9993 - mae: 21.9993\n",
            "Epoch 100/100\n",
            "4/4 [==============================] - 0s 3ms/step - loss: 19.7784 - mae: 19.7784\n"
          ]
        },
        {
          "output_type": "execute_result",
          "data": {
            "text/plain": [
              "<keras.callbacks.History at 0x7fbd57792430>"
            ]
          },
          "metadata": {},
          "execution_count": 434
        }
      ]
    },
    {
      "cell_type": "code",
      "source": [
        "y_pred = model.predict(X_test)"
      ],
      "metadata": {
        "colab": {
          "base_uri": "https://localhost:8080/"
        },
        "id": "1pxureytnUU6",
        "outputId": "1dc000d0-90b8-4ac9-8bb0-b4f568f43f31"
      },
      "execution_count": 435,
      "outputs": [
        {
          "output_type": "stream",
          "name": "stdout",
          "text": [
            "2/2 [==============================] - 0s 6ms/step\n"
          ]
        }
      ]
    },
    {
      "cell_type": "code",
      "source": [
        "def pred_viz(\n",
        "    train_data = X_train,\n",
        "    train_label = y_train,\n",
        "    test_data = X_test,\n",
        "    test_label = y_test,\n",
        "    y_pred = y_pred):\n",
        "\n",
        "  plt.figure(figsize = [10,7])\n",
        "  plt.scatter(train_data,train_label, c = 'b', label = 'Training Data')\n",
        "  plt.scatter(test_data,test_label, c= 'g', label = 'Testing Data')\n",
        "  plt.scatter(test_data,y_pred, c='orange', label = 'Prediction')\n",
        "  plt.legend();"
      ],
      "metadata": {
        "id": "dELki7fjvJxR"
      },
      "execution_count": 477,
      "outputs": []
    },
    {
      "cell_type": "code",
      "source": [
        "pred_viz()"
      ],
      "metadata": {
        "id": "UNNmL6aqvJvF",
        "colab": {
          "base_uri": "https://localhost:8080/",
          "height": 428
        },
        "outputId": "1becc8a4-1b4a-4137-e576-2b0a293d69f2"
      },
      "execution_count": 455,
      "outputs": [
        {
          "output_type": "display_data",
          "data": {
            "text/plain": [
              "<Figure size 720x504 with 1 Axes>"
            ],
            "image/png": "[encoded data removed]"
          },
          "metadata": {
            "needs_background": "light"
          }
        }
      ]
    },
    {
      "cell_type": "code",
      "source": [
        "model.evaluate(X_test,y_test)"
      ],
      "metadata": {
        "id": "UyaQi4FJvJs8",
        "colab": {
          "base_uri": "https://localhost:8080/"
        },
        "outputId": "a3a69418-3e90-4cf6-86b3-ed5c29ef785c"
      },
      "execution_count": 438,
      "outputs": [
        {
          "output_type": "stream",
          "name": "stdout",
          "text": [
            "2/2 [==============================] - 0s 7ms/step - loss: 3.5844 - mae: 3.5844\n"
          ]
        },
        {
          "output_type": "execute_result",
          "data": {
            "text/plain": [
              "[3.584439516067505, 3.584439516067505]"
            ]
          },
          "metadata": {},
          "execution_count": 438
        }
      ]
    },
    {
      "cell_type": "code",
      "source": [
        "y_test.shape, y_pred.shape"
      ],
      "metadata": {
        "id": "DG-SFPK3vJoz",
        "colab": {
          "base_uri": "https://localhost:8080/"
        },
        "outputId": "eaf0d4d1-f53c-4db7-8566-ee03f34cdfa7"
      },
      "execution_count": 439,
      "outputs": [
        {
          "output_type": "execute_result",
          "data": {
            "text/plain": [
              "(TensorShape([45, 1]), (45, 1))"
            ]
          },
          "metadata": {},
          "execution_count": 439
        }
      ]
    },
    {
      "cell_type": "code",
      "source": [
        "tf.squeeze(y_test).shape"
      ],
      "metadata": {
        "id": "KSd1dGFAvJmh",
        "colab": {
          "base_uri": "https://localhost:8080/"
        },
        "outputId": "e9340bbc-3dfb-43e7-b2d3-f07bfc81a7af"
      },
      "execution_count": 440,
      "outputs": [
        {
          "output_type": "execute_result",
          "data": {
            "text/plain": [
              "TensorShape([45])"
            ]
          },
          "metadata": {},
          "execution_count": 440
        }
      ]
    },
    {
      "cell_type": "code",
      "source": [
        "tf.squeeze(y_pred).shape"
      ],
      "metadata": {
        "id": "Cl8dbR99vJkL",
        "colab": {
          "base_uri": "https://localhost:8080/"
        },
        "outputId": "782eaecb-9b9f-49e3-bdc9-9606942fcc18"
      },
      "execution_count": 441,
      "outputs": [
        {
          "output_type": "execute_result",
          "data": {
            "text/plain": [
              "TensorShape([45])"
            ]
          },
          "metadata": {},
          "execution_count": 441
        }
      ]
    },
    {
      "cell_type": "code",
      "source": [
        "# for the metrics to work perfectly, both the parameters have to be in the same shape\n",
        "\n",
        "tf.metrics.mae(tf.squeeze(y_test),tf.squeeze(y_pred))"
      ],
      "metadata": {
        "id": "5182N1PcvJhz",
        "colab": {
          "base_uri": "https://localhost:8080/"
        },
        "outputId": "e5175744-89bf-47fb-8d67-a8ecee923904"
      },
      "execution_count": 442,
      "outputs": [
        {
          "output_type": "execute_result",
          "data": {
            "text/plain": [
              "<tf.Tensor: shape=(), dtype=float32, numpy=3.5844398>"
            ]
          },
          "metadata": {},
          "execution_count": 442
        }
      ]
    },
    {
      "cell_type": "code",
      "source": [
        "tf.metrics.mse(tf.squeeze(y_test),tf.squeeze(y_pred))"
      ],
      "metadata": {
        "id": "ftRyJ1A-vJfe",
        "colab": {
          "base_uri": "https://localhost:8080/"
        },
        "outputId": "00886bf5-9d53-4960-8d66-d9b90ffcbe34"
      },
      "execution_count": 443,
      "outputs": [
        {
          "output_type": "execute_result",
          "data": {
            "text/plain": [
              "<tf.Tensor: shape=(), dtype=float32, numpy=19.228916>"
            ]
          },
          "metadata": {},
          "execution_count": 443
        }
      ]
    },
    {
      "cell_type": "code",
      "source": [
        "def metrics(y_true = y_test, y_pred = y_pred):\n",
        "  print('mae : ',tf.metrics.mae(tf.squeeze(y_true),tf.squeeze(y_pred)).numpy())\n",
        "  print('mse : ',tf.metrics.mse(tf.squeeze(y_true),tf.squeeze(y_pred)).numpy())"
      ],
      "metadata": {
        "id": "-TnGKP_eI9Jx"
      },
      "execution_count": 450,
      "outputs": []
    },
    {
      "cell_type": "code",
      "source": [
        "metrics()"
      ],
      "metadata": {
        "colab": {
          "base_uri": "https://localhost:8080/"
        },
        "id": "gS-UMvi6KWI7",
        "outputId": "09756c13-2703-4917-f5f3-3962faf7e69c"
      },
      "execution_count": 451,
      "outputs": [
        {
          "output_type": "stream",
          "name": "stdout",
          "text": [
            "mae :  3.5844398\n",
            "mse :  19.228916\n"
          ]
        }
      ]
    },
    {
      "cell_type": "markdown",
      "source": [
        "Lets try, three different models"
      ],
      "metadata": {
        "id": "QdfVLlVONJRF"
      }
    },
    {
      "cell_type": "markdown",
      "source": [
        "**Model1**"
      ],
      "metadata": {
        "id": "tLHGDC02WUT0"
      }
    },
    {
      "cell_type": "code",
      "source": [
        "tf.random.set_seed(45)\n",
        "\n",
        "model1 = tf.keras.Sequential(layers = \n",
        "                              [tf.keras.layers.Dense(units = 10),\n",
        "                               tf.keras.layers.Dense(units =1,name = 'output')],\n",
        "                              name = 'model1')\n",
        "\n",
        "model1.compile(loss = tf.keras.losses.mae,\n",
        "              optimizer = tf.keras.optimizers.SGD(),\n",
        "              metrics = ['mae'])\n",
        "\n",
        "model1.fit(X_train,y_train, epochs = 100)"
      ],
      "metadata": {
        "id": "1iDwSgwvKajn"
      },
      "execution_count": null,
      "outputs": []
    },
    {
      "cell_type": "code",
      "source": [
        "y_pred1 = tf.constant(model1.predict(X_test))\n",
        "y_pred1.shape"
      ],
      "metadata": {
        "colab": {
          "base_uri": "https://localhost:8080/"
        },
        "id": "99ub-9BsUOy8",
        "outputId": "781b8f91-262c-4fd1-9e01-8d3cd5524719"
      },
      "execution_count": 471,
      "outputs": [
        {
          "output_type": "stream",
          "name": "stdout",
          "text": [
            "2/2 [==============================] - 0s 5ms/step\n"
          ]
        },
        {
          "output_type": "execute_result",
          "data": {
            "text/plain": [
              "TensorShape([45, 1])"
            ]
          },
          "metadata": {},
          "execution_count": 471
        }
      ]
    },
    {
      "cell_type": "code",
      "source": [
        "pred_viz(y_pred = y_pred1)"
      ],
      "metadata": {
        "colab": {
          "base_uri": "https://localhost:8080/",
          "height": 428
        },
        "id": "jMax2EvKUAs0",
        "outputId": "31a2bdec-0f4e-4f32-937a-ec11ffe65d80"
      },
      "execution_count": 478,
      "outputs": [
        {
          "output_type": "display_data",
          "data": {
            "text/plain": [
              "<Figure size 720x504 with 1 Axes>"
            ],
            "image/png": "[encoded data removed]"
          },
          "metadata": {
            "needs_background": "light"
          }
        }
      ]
    },
    {
      "cell_type": "code",
      "source": [
        "metrics(y_pred = y_pred1)"
      ],
      "metadata": {
        "colab": {
          "base_uri": "https://localhost:8080/"
        },
        "id": "9kdn0TihUXMt",
        "outputId": "d8bbb13a-78f3-42dc-fe81-819008458d3d"
      },
      "execution_count": 479,
      "outputs": [
        {
          "output_type": "stream",
          "name": "stdout",
          "text": [
            "mae :  3.238507\n",
            "mse :  15.730488\n"
          ]
        }
      ]
    },
    {
      "cell_type": "markdown",
      "source": [
        "**Model2**"
      ],
      "metadata": {
        "id": "TvcrqfauW2yu"
      }
    },
    {
      "cell_type": "code",
      "source": [
        "tf.random.set_seed(42)\n",
        "model2 = tf.keras.Sequential(layers = \n",
        "                             [tf.keras.layers.Dense(units = 10),\n",
        "                              tf.keras.layers.Dense(units =1, name = 'output')],\n",
        "                             name = 'model2')\n",
        "\n",
        "model2.compile(loss = tf.keras.losses.mae,\n",
        "               optimizer = tf.keras.optimizers.SGD(),\n",
        "               metrics = ['mae'])\n",
        "\n",
        "model2.fit(X_train,y_train, epochs = 500)"
      ],
      "metadata": {
        "id": "u8p36UA1V6ud"
      },
      "execution_count": null,
      "outputs": []
    },
    {
      "cell_type": "code",
      "source": [
        "y_pred2 = model2.predict(X_test)"
      ],
      "metadata": {
        "colab": {
          "base_uri": "https://localhost:8080/"
        },
        "id": "WvQAaxXbXerK",
        "outputId": "8900b9aa-b0dc-4df4-8005-8662b8697884"
      },
      "execution_count": 483,
      "outputs": [
        {
          "output_type": "stream",
          "name": "stdout",
          "text": [
            "2/2 [==============================] - 0s 7ms/step\n"
          ]
        }
      ]
    },
    {
      "cell_type": "code",
      "source": [
        "pred_viz(y_pred = y_pred2)"
      ],
      "metadata": {
        "colab": {
          "base_uri": "https://localhost:8080/",
          "height": 428
        },
        "id": "1j_EszmjXy4x",
        "outputId": "170e5b2b-2964-4cc8-c9b1-e211ce9b8558"
      },
      "execution_count": 487,
      "outputs": [
        {
          "output_type": "display_data",
          "data": {
            "text/plain": [
              "<Figure size 720x504 with 1 Axes>"
            ],
            "image/png": "[encoded data removed]"
          },
          "metadata": {
            "needs_background": "light"
          }
        }
      ]
    },
    {
      "cell_type": "code",
      "source": [
        "metrics(y_pred = y_pred2)"
      ],
      "metadata": {
        "colab": {
          "base_uri": "https://localhost:8080/"
        },
        "id": "b2p6x9P9X3nU",
        "outputId": "189712dd-51a6-44e7-8fe2-efbd03be672b"
      },
      "execution_count": 488,
      "outputs": [
        {
          "output_type": "stream",
          "name": "stdout",
          "text": [
            "mae :  13.5920315\n",
            "mse :  241.65018\n"
          ]
        }
      ]
    },
    {
      "cell_type": "markdown",
      "source": [
        "**Model3**"
      ],
      "metadata": {
        "id": "2JErR9fbcNrX"
      }
    },
    {
      "cell_type": "code",
      "source": [
        "tf.random.set_seed(42)\n",
        "model3 = tf.keras.Sequential( layers = \n",
        "                             [tf.keras.layers.Dense(10),\n",
        "                              tf.keras.layers.Dense(1)],\n",
        "                             name = 'model3')"
      ],
      "metadata": {
        "id": "ytFNGZCRX-yE"
      },
      "execution_count": 493,
      "outputs": []
    },
    {
      "cell_type": "code",
      "source": [
        "model3.compile(loss = tf.keras.losses.mae,\n",
        "               optimizer = tf.keras.optimizers.Adam(lr = 0.001),\n",
        "               metrics = ['mae'])"
      ],
      "metadata": {
        "id": "-4I-b2YwciOa"
      },
      "execution_count": 494,
      "outputs": []
    },
    {
      "cell_type": "code",
      "source": [
        "model3.fit(X_train,y_train, epochs = 100)"
      ],
      "metadata": {
        "id": "zUiOmfmoc3UI"
      },
      "execution_count": null,
      "outputs": []
    },
    {
      "cell_type": "code",
      "source": [
        "y_pred3 = model3.predict(X_test)"
      ],
      "metadata": {
        "colab": {
          "base_uri": "https://localhost:8080/"
        },
        "id": "q2XwTbhhc_wK",
        "outputId": "69f676ea-022c-44b1-ca73-77e1a9f8c446"
      },
      "execution_count": 496,
      "outputs": [
        {
          "output_type": "stream",
          "name": "stdout",
          "text": [
            "2/2 [==============================] - 0s 6ms/step\n"
          ]
        }
      ]
    },
    {
      "cell_type": "code",
      "source": [
        "pred_viz(y_pred = y_pred3)"
      ],
      "metadata": {
        "colab": {
          "base_uri": "https://localhost:8080/",
          "height": 428
        },
        "id": "wgTMUow3dE0E",
        "outputId": "5512b581-219d-45b3-bd5c-1ef698be5672"
      },
      "execution_count": 497,
      "outputs": [
        {
          "output_type": "display_data",
          "data": {
            "text/plain": [
              "<Figure size 720x504 with 1 Axes>"
            ],
            "image/png": "[encoded data removed]"
          },
          "metadata": {
            "needs_background": "light"
          }
        }
      ]
    },
    {
      "cell_type": "code",
      "source": [
        "metrics(y_pred = y_pred3)"
      ],
      "metadata": {
        "colab": {
          "base_uri": "https://localhost:8080/"
        },
        "id": "_gEe-5gfdUf5",
        "outputId": "d136521d-f001-40bd-9e51-6e88f6a89b3f"
      },
      "execution_count": 498,
      "outputs": [
        {
          "output_type": "stream",
          "name": "stdout",
          "text": [
            "mae :  3.0642564\n",
            "mse :  9.57075\n"
          ]
        }
      ]
    },
    {
      "cell_type": "markdown",
      "source": [
        "**Saving Tensorflow models**\n",
        "\n",
        "1. Saved Model Format - native to tensor flow with variable and weights stored\n",
        "2. HDF5 Format (.h5) for universal portabilty of the model"
      ],
      "metadata": {
        "id": "rpaDsBoXdbm_"
      }
    },
    {
      "cell_type": "code",
      "source": [
        "# saving in the SavedModel Foramt\n",
        "\n",
        "model3.save('best_model_savedmodelformat')"
      ],
      "metadata": {
        "id": "_DIVkyoPdYuH"
      },
      "execution_count": 500,
      "outputs": []
    },
    {
      "cell_type": "code",
      "source": [
        "# saving the model in the HDF5 format\n",
        "model3.save('best_model.h5')"
      ],
      "metadata": {
        "id": "6Fzr03exhe9n"
      },
      "execution_count": 501,
      "outputs": []
    },
    {
      "cell_type": "markdown",
      "source": [
        "**Load the Model back into the noteboook**"
      ],
      "metadata": {
        "id": "jMRFZBkWhxPE"
      }
    },
    {
      "cell_type": "code",
      "source": [
        "# loading the model from the saved model format\n",
        "load_model3_1 = tf.keras.models.load_model('/content/best_model_savedmodelformat')"
      ],
      "metadata": {
        "id": "xV54IS_fhq_S"
      },
      "execution_count": 502,
      "outputs": []
    },
    {
      "cell_type": "code",
      "source": [
        "# checking the model prediction\n",
        "\n",
        "np.mean(load_model3_1.predict(X_test) == model3.predict(X_test)) == 1"
      ],
      "metadata": {
        "colab": {
          "base_uri": "https://localhost:8080/"
        },
        "id": "EHuoix63iDF2",
        "outputId": "bd2f46d3-b657-47c9-edf7-8298b8595eab"
      },
      "execution_count": 507,
      "outputs": [
        {
          "output_type": "stream",
          "name": "stdout",
          "text": [
            "2/2 [==============================] - 0s 13ms/step\n",
            "2/2 [==============================] - 0s 11ms/step\n"
          ]
        },
        {
          "output_type": "execute_result",
          "data": {
            "text/plain": [
              "True"
            ]
          },
          "metadata": {},
          "execution_count": 507
        }
      ]
    },
    {
      "cell_type": "code",
      "source": [
        "# loading the model from the HDF5 format\n",
        "\n",
        "load_model_3_2 = tf.keras.models.load_model('/content/best_model.h5')"
      ],
      "metadata": {
        "id": "-ff-uTKEiJ1O"
      },
      "execution_count": 504,
      "outputs": []
    },
    {
      "cell_type": "code",
      "source": [
        "np.mean(load_model_3_2.predict(X_test) == model3.predict(X_test)) == 1"
      ],
      "metadata": {
        "colab": {
          "base_uri": "https://localhost:8080/"
        },
        "id": "DH9nSb-UilcC",
        "outputId": "2164615f-c220-418c-b25a-14cc20c08e7f"
      },
      "execution_count": 506,
      "outputs": [
        {
          "output_type": "stream",
          "name": "stdout",
          "text": [
            "2/2 [==============================] - 0s 30ms/step\n",
            "2/2 [==============================] - 0s 13ms/step\n"
          ]
        },
        {
          "output_type": "execute_result",
          "data": {
            "text/plain": [
              "True"
            ]
          },
          "metadata": {},
          "execution_count": 506
        }
      ]
    }
  ]
}